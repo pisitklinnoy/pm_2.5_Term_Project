{
 "cells": [
  {
   "cell_type": "code",
   "execution_count": 1,
   "metadata": {},
   "outputs": [
    {
     "name": "stdout",
     "output_type": "stream",
     "text": [
      "Collecting pycaret\n",
      "  Obtaining dependency information for pycaret from https://files.pythonhosted.org/packages/3e/6f/b3d59fac3869a7685e68aecdd35c336800bce8c8d3b45687bb82cf9a2848/pycaret-3.3.2-py3-none-any.whl.metadata\n",
      "  Using cached pycaret-3.3.2-py3-none-any.whl.metadata (17 kB)\n",
      "Requirement already satisfied: pandas in c:\\users\\tufas\\appdata\\local\\programs\\python\\python311\\lib\\site-packages (2.1.4)\n",
      "Requirement already satisfied: shap in c:\\users\\tufas\\appdata\\local\\programs\\python\\python311\\lib\\site-packages (0.47.0)\n",
      "Requirement already satisfied: ipython>=5.5.0 in c:\\users\\tufas\\appdata\\roaming\\python\\python311\\site-packages (from pycaret) (9.0.2)\n",
      "Requirement already satisfied: ipywidgets>=7.6.5 in c:\\users\\tufas\\appdata\\local\\programs\\python\\python311\\lib\\site-packages (from pycaret) (8.1.5)\n",
      "Requirement already satisfied: tqdm>=4.62.0 in c:\\users\\tufas\\appdata\\local\\programs\\python\\python311\\lib\\site-packages (from pycaret) (4.67.1)\n",
      "Requirement already satisfied: numpy<1.27,>=1.21 in c:\\users\\tufas\\appdata\\local\\programs\\python\\python311\\lib\\site-packages (from pycaret) (1.26.4)\n",
      "Requirement already satisfied: jinja2>=3 in c:\\users\\tufas\\appdata\\local\\programs\\python\\python311\\lib\\site-packages (from pycaret) (3.1.6)\n",
      "Requirement already satisfied: scipy<=1.11.4,>=1.6.1 in c:\\users\\tufas\\appdata\\local\\programs\\python\\python311\\lib\\site-packages (from pycaret) (1.11.4)\n",
      "Requirement already satisfied: joblib<1.4,>=1.2.0 in c:\\users\\tufas\\appdata\\local\\programs\\python\\python311\\lib\\site-packages (from pycaret) (1.3.2)\n",
      "Requirement already satisfied: scikit-learn>1.4.0 in c:\\users\\tufas\\appdata\\local\\programs\\python\\python311\\lib\\site-packages (from pycaret) (1.4.2)\n",
      "Requirement already satisfied: pyod>=1.1.3 in c:\\users\\tufas\\appdata\\local\\programs\\python\\python311\\lib\\site-packages (from pycaret) (2.0.3)\n",
      "Collecting imbalanced-learn>=0.12.0 (from pycaret)\n",
      "  Obtaining dependency information for imbalanced-learn>=0.12.0 from https://files.pythonhosted.org/packages/9d/41/721fec82606242a2072ee909086ff918dfad7d0199a9dfd4928df9c72494/imbalanced_learn-0.13.0-py3-none-any.whl.metadata\n",
      "  Using cached imbalanced_learn-0.13.0-py3-none-any.whl.metadata (8.8 kB)\n",
      "Collecting category-encoders>=2.4.0 (from pycaret)\n",
      "  Obtaining dependency information for category-encoders>=2.4.0 from https://files.pythonhosted.org/packages/63/a8/e2929e8654c15a64504022a8bd1444e748a8bda3450a4868567caf19a6c1/category_encoders-2.8.0-py3-none-any.whl.metadata\n",
      "  Using cached category_encoders-2.8.0-py3-none-any.whl.metadata (7.9 kB)\n",
      "Requirement already satisfied: lightgbm>=3.0.0 in c:\\users\\tufas\\appdata\\local\\programs\\python\\python311\\lib\\site-packages (from pycaret) (4.6.0)\n",
      "Requirement already satisfied: numba>=0.55.0 in c:\\users\\tufas\\appdata\\local\\programs\\python\\python311\\lib\\site-packages (from pycaret) (0.61.0)\n",
      "Requirement already satisfied: requests>=2.27.1 in c:\\users\\tufas\\appdata\\local\\programs\\python\\python311\\lib\\site-packages (from pycaret) (2.32.3)\n",
      "Requirement already satisfied: psutil>=5.9.0 in c:\\users\\tufas\\appdata\\roaming\\python\\python311\\site-packages (from pycaret) (7.0.0)\n",
      "Requirement already satisfied: markupsafe>=2.0.1 in c:\\users\\tufas\\appdata\\local\\programs\\python\\python311\\lib\\site-packages (from pycaret) (3.0.2)\n",
      "Requirement already satisfied: importlib-metadata>=4.12.0 in c:\\users\\tufas\\appdata\\local\\programs\\python\\python311\\lib\\site-packages (from pycaret) (8.6.1)\n",
      "Collecting nbformat>=4.2.0 (from pycaret)\n",
      "  Obtaining dependency information for nbformat>=4.2.0 from https://files.pythonhosted.org/packages/a9/82/0340caa499416c78e5d8f5f05947ae4bc3cba53c9f038ab6e9ed964e22f1/nbformat-5.10.4-py3-none-any.whl.metadata\n",
      "  Using cached nbformat-5.10.4-py3-none-any.whl.metadata (3.6 kB)\n",
      "Requirement already satisfied: cloudpickle in c:\\users\\tufas\\appdata\\local\\programs\\python\\python311\\lib\\site-packages (from pycaret) (3.1.1)\n",
      "Requirement already satisfied: deprecation>=2.1.0 in c:\\users\\tufas\\appdata\\local\\programs\\python\\python311\\lib\\site-packages (from pycaret) (2.1.0)\n",
      "Requirement already satisfied: xxhash in c:\\users\\tufas\\appdata\\local\\programs\\python\\python311\\lib\\site-packages (from pycaret) (3.5.0)\n",
      "Requirement already satisfied: matplotlib<3.8.0 in c:\\users\\tufas\\appdata\\local\\programs\\python\\python311\\lib\\site-packages (from pycaret) (3.7.5)\n",
      "Requirement already satisfied: scikit-plot>=0.3.7 in c:\\users\\tufas\\appdata\\local\\programs\\python\\python311\\lib\\site-packages (from pycaret) (0.3.7)\n",
      "Requirement already satisfied: yellowbrick>=1.4 in c:\\users\\tufas\\appdata\\local\\programs\\python\\python311\\lib\\site-packages (from pycaret) (1.5)\n",
      "Requirement already satisfied: plotly>=5.14.0 in c:\\users\\tufas\\appdata\\local\\programs\\python\\python311\\lib\\site-packages (from pycaret) (5.24.1)\n",
      "Requirement already satisfied: kaleido>=0.2.1 in c:\\users\\tufas\\appdata\\local\\programs\\python\\python311\\lib\\site-packages (from pycaret) (0.2.1)\n",
      "Requirement already satisfied: schemdraw==0.15 in c:\\users\\tufas\\appdata\\local\\programs\\python\\python311\\lib\\site-packages (from pycaret) (0.15)\n",
      "Collecting plotly-resampler>=0.8.3.1 (from pycaret)\n",
      "  Obtaining dependency information for plotly-resampler>=0.8.3.1 from https://files.pythonhosted.org/packages/b5/4a/45150bb460637d05653940bcb8f9a14b6ba2fb4c0a454485a2fa8088b88e/plotly_resampler-0.10.0-py3-none-any.whl.metadata\n",
      "  Using cached plotly_resampler-0.10.0-py3-none-any.whl.metadata (13 kB)\n",
      "Requirement already satisfied: statsmodels>=0.12.1 in c:\\users\\tufas\\appdata\\local\\programs\\python\\python311\\lib\\site-packages (from pycaret) (0.14.4)\n",
      "Requirement already satisfied: sktime==0.26.0 in c:\\users\\tufas\\appdata\\local\\programs\\python\\python311\\lib\\site-packages (from pycaret) (0.26.0)\n",
      "Collecting tbats>=1.1.3 (from pycaret)\n",
      "  Obtaining dependency information for tbats>=1.1.3 from https://files.pythonhosted.org/packages/63/94/1949dc644c3fa05b736b988dc8058122f8c0187778ff9f18070bce2d4ddd/tbats-1.1.3-py3-none-any.whl.metadata\n",
      "  Using cached tbats-1.1.3-py3-none-any.whl.metadata (3.8 kB)\n",
      "Collecting pmdarima>=2.0.4 (from pycaret)\n",
      "  Obtaining dependency information for pmdarima>=2.0.4 from https://files.pythonhosted.org/packages/ac/f8/6c9364602b13f0dba129b53acd1344859690911a4d5021560d9fd6aa087f/pmdarima-2.0.4-cp311-cp311-win_amd64.whl.metadata\n",
      "  Using cached pmdarima-2.0.4-cp311-cp311-win_amd64.whl.metadata (8.0 kB)\n",
      "Requirement already satisfied: packaging in c:\\users\\tufas\\appdata\\roaming\\python\\python311\\site-packages (from sktime==0.26.0->pycaret) (24.2)\n",
      "Requirement already satisfied: scikit-base<0.8.0 in c:\\users\\tufas\\appdata\\local\\programs\\python\\python311\\lib\\site-packages (from sktime==0.26.0->pycaret) (0.7.8)\n",
      "Requirement already satisfied: python-dateutil>=2.8.2 in c:\\users\\tufas\\appdata\\roaming\\python\\python311\\site-packages (from pandas) (2.9.0.post0)\n",
      "Requirement already satisfied: pytz>=2020.1 in c:\\users\\tufas\\appdata\\local\\programs\\python\\python311\\lib\\site-packages (from pandas) (2025.1)\n",
      "Requirement already satisfied: tzdata>=2022.1 in c:\\users\\tufas\\appdata\\local\\programs\\python\\python311\\lib\\site-packages (from pandas) (2025.1)\n",
      "Requirement already satisfied: slicer==0.0.8 in c:\\users\\tufas\\appdata\\local\\programs\\python\\python311\\lib\\site-packages (from shap) (0.0.8)\n",
      "Requirement already satisfied: typing-extensions in c:\\users\\tufas\\appdata\\roaming\\python\\python311\\site-packages (from shap) (4.12.2)\n",
      "Requirement already satisfied: patsy>=0.5.1 in c:\\users\\tufas\\appdata\\local\\programs\\python\\python311\\lib\\site-packages (from category-encoders>=2.4.0->pycaret) (1.0.1)\n",
      "INFO: pip is looking at multiple versions of category-encoders to determine which version is compatible with other requirements. This could take a while.\n",
      "Collecting category-encoders>=2.4.0 (from pycaret)\n",
      "  Obtaining dependency information for category-encoders>=2.4.0 from https://files.pythonhosted.org/packages/cb/db/994342594822cd7ed9bc9bb67d259f2585e9034d07df9bae12133319914a/category_encoders-2.7.0-py3-none-any.whl.metadata\n",
      "  Using cached category_encoders-2.7.0-py3-none-any.whl.metadata (7.9 kB)\n",
      "Requirement already satisfied: sklearn-compat<1,>=0.1 in c:\\users\\tufas\\appdata\\local\\programs\\python\\python311\\lib\\site-packages (from imbalanced-learn>=0.12.0->pycaret) (0.1.3)\n",
      "Requirement already satisfied: threadpoolctl<4,>=2.0.0 in c:\\users\\tufas\\appdata\\local\\programs\\python\\python311\\lib\\site-packages (from imbalanced-learn>=0.12.0->pycaret) (3.5.0)\n",
      "Requirement already satisfied: zipp>=3.20 in c:\\users\\tufas\\appdata\\local\\programs\\python\\python311\\lib\\site-packages (from importlib-metadata>=4.12.0->pycaret) (3.21.0)\n",
      "Requirement already satisfied: colorama in c:\\users\\tufas\\appdata\\roaming\\python\\python311\\site-packages (from ipython>=5.5.0->pycaret) (0.4.6)\n",
      "Requirement already satisfied: decorator in c:\\users\\tufas\\appdata\\roaming\\python\\python311\\site-packages (from ipython>=5.5.0->pycaret) (5.2.1)\n",
      "Requirement already satisfied: ipython-pygments-lexers in c:\\users\\tufas\\appdata\\roaming\\python\\python311\\site-packages (from ipython>=5.5.0->pycaret) (1.1.1)\n",
      "Requirement already satisfied: jedi>=0.16 in c:\\users\\tufas\\appdata\\roaming\\python\\python311\\site-packages (from ipython>=5.5.0->pycaret) (0.19.2)\n",
      "Requirement already satisfied: matplotlib-inline in c:\\users\\tufas\\appdata\\roaming\\python\\python311\\site-packages (from ipython>=5.5.0->pycaret) (0.1.7)\n",
      "Requirement already satisfied: prompt_toolkit<3.1.0,>=3.0.41 in c:\\users\\tufas\\appdata\\roaming\\python\\python311\\site-packages (from ipython>=5.5.0->pycaret) (3.0.50)\n",
      "Requirement already satisfied: pygments>=2.4.0 in c:\\users\\tufas\\appdata\\roaming\\python\\python311\\site-packages (from ipython>=5.5.0->pycaret) (2.19.1)\n",
      "Requirement already satisfied: stack_data in c:\\users\\tufas\\appdata\\roaming\\python\\python311\\site-packages (from ipython>=5.5.0->pycaret) (0.6.3)\n",
      "Requirement already satisfied: traitlets>=5.13.0 in c:\\users\\tufas\\appdata\\roaming\\python\\python311\\site-packages (from ipython>=5.5.0->pycaret) (5.14.3)\n",
      "Requirement already satisfied: comm>=0.1.3 in c:\\users\\tufas\\appdata\\roaming\\python\\python311\\site-packages (from ipywidgets>=7.6.5->pycaret) (0.2.2)\n",
      "Requirement already satisfied: widgetsnbextension~=4.0.12 in c:\\users\\tufas\\appdata\\local\\programs\\python\\python311\\lib\\site-packages (from ipywidgets>=7.6.5->pycaret) (4.0.13)\n",
      "Requirement already satisfied: jupyterlab-widgets~=3.0.12 in c:\\users\\tufas\\appdata\\local\\programs\\python\\python311\\lib\\site-packages (from ipywidgets>=7.6.5->pycaret) (3.0.13)\n",
      "Requirement already satisfied: contourpy>=1.0.1 in c:\\users\\tufas\\appdata\\local\\programs\\python\\python311\\lib\\site-packages (from matplotlib<3.8.0->pycaret) (1.3.1)\n",
      "Requirement already satisfied: cycler>=0.10 in c:\\users\\tufas\\appdata\\local\\programs\\python\\python311\\lib\\site-packages (from matplotlib<3.8.0->pycaret) (0.12.1)\n",
      "Requirement already satisfied: fonttools>=4.22.0 in c:\\users\\tufas\\appdata\\local\\programs\\python\\python311\\lib\\site-packages (from matplotlib<3.8.0->pycaret) (4.56.0)\n",
      "Requirement already satisfied: kiwisolver>=1.0.1 in c:\\users\\tufas\\appdata\\local\\programs\\python\\python311\\lib\\site-packages (from matplotlib<3.8.0->pycaret) (1.4.8)\n",
      "Requirement already satisfied: pillow>=6.2.0 in c:\\users\\tufas\\appdata\\local\\programs\\python\\python311\\lib\\site-packages (from matplotlib<3.8.0->pycaret) (11.1.0)\n",
      "Requirement already satisfied: pyparsing>=2.3.1 in c:\\users\\tufas\\appdata\\local\\programs\\python\\python311\\lib\\site-packages (from matplotlib<3.8.0->pycaret) (3.2.1)\n",
      "Requirement already satisfied: fastjsonschema>=2.15 in c:\\users\\tufas\\appdata\\local\\programs\\python\\python311\\lib\\site-packages (from nbformat>=4.2.0->pycaret) (2.21.1)\n",
      "Collecting jsonschema>=2.6 (from nbformat>=4.2.0->pycaret)\n",
      "  Obtaining dependency information for jsonschema>=2.6 from https://files.pythonhosted.org/packages/69/4a/4f9dbeb84e8850557c02365a0eee0649abe5eb1d84af92a25731c6c0f922/jsonschema-4.23.0-py3-none-any.whl.metadata\n",
      "  Using cached jsonschema-4.23.0-py3-none-any.whl.metadata (7.9 kB)\n",
      "Requirement already satisfied: jupyter-core!=5.0.*,>=4.12 in c:\\users\\tufas\\appdata\\roaming\\python\\python311\\site-packages (from nbformat>=4.2.0->pycaret) (5.7.2)\n",
      "Requirement already satisfied: llvmlite<0.45,>=0.44.0dev0 in c:\\users\\tufas\\appdata\\local\\programs\\python\\python311\\lib\\site-packages (from numba>=0.55.0->pycaret) (0.44.0)\n",
      "Requirement already satisfied: tenacity>=6.2.0 in c:\\users\\tufas\\appdata\\local\\programs\\python\\python311\\lib\\site-packages (from plotly>=5.14.0->pycaret) (9.0.0)\n",
      "Collecting dash>=2.9.0 (from plotly-resampler>=0.8.3.1->pycaret)\n",
      "  Obtaining dependency information for dash>=2.9.0 from https://files.pythonhosted.org/packages/72/ef/d46131f4817f18b329e4fb7c53ba1d31774239d91266a74bccdc932708cc/dash-2.18.2-py3-none-any.whl.metadata\n",
      "  Using cached dash-2.18.2-py3-none-any.whl.metadata (10 kB)\n",
      "Requirement already satisfied: orjson<4.0.0,>=3.8.0 in c:\\users\\tufas\\appdata\\local\\programs\\python\\python311\\lib\\site-packages (from plotly-resampler>=0.8.3.1->pycaret) (3.10.15)\n",
      "Requirement already satisfied: tsdownsample>=0.1.3 in c:\\users\\tufas\\appdata\\local\\programs\\python\\python311\\lib\\site-packages (from plotly-resampler>=0.8.3.1->pycaret) (0.1.4.1)\n",
      "Requirement already satisfied: Cython!=0.29.18,!=0.29.31,>=0.29 in c:\\users\\tufas\\appdata\\local\\programs\\python\\python311\\lib\\site-packages (from pmdarima>=2.0.4->pycaret) (3.0.12)\n",
      "Requirement already satisfied: urllib3 in c:\\users\\tufas\\appdata\\local\\programs\\python\\python311\\lib\\site-packages (from pmdarima>=2.0.4->pycaret) (2.3.0)\n",
      "Requirement already satisfied: setuptools!=50.0.0,>=38.6.0 in c:\\users\\tufas\\appdata\\local\\programs\\python\\python311\\lib\\site-packages (from pmdarima>=2.0.4->pycaret) (65.5.0)\n",
      "Requirement already satisfied: six>=1.5 in c:\\users\\tufas\\appdata\\roaming\\python\\python311\\site-packages (from python-dateutil>=2.8.2->pandas) (1.17.0)\n",
      "Requirement already satisfied: charset-normalizer<4,>=2 in c:\\users\\tufas\\appdata\\local\\programs\\python\\python311\\lib\\site-packages (from requests>=2.27.1->pycaret) (3.4.1)\n",
      "Requirement already satisfied: idna<4,>=2.5 in c:\\users\\tufas\\appdata\\local\\programs\\python\\python311\\lib\\site-packages (from requests>=2.27.1->pycaret) (3.10)\n",
      "Requirement already satisfied: certifi>=2017.4.17 in c:\\users\\tufas\\appdata\\local\\programs\\python\\python311\\lib\\site-packages (from requests>=2.27.1->pycaret) (2025.1.31)\n",
      "Requirement already satisfied: Flask<3.1,>=1.0.4 in c:\\users\\tufas\\appdata\\local\\programs\\python\\python311\\lib\\site-packages (from dash>=2.9.0->plotly-resampler>=0.8.3.1->pycaret) (3.0.3)\n",
      "Requirement already satisfied: Werkzeug<3.1 in c:\\users\\tufas\\appdata\\local\\programs\\python\\python311\\lib\\site-packages (from dash>=2.9.0->plotly-resampler>=0.8.3.1->pycaret) (3.0.6)\n",
      "Requirement already satisfied: dash-html-components==2.0.0 in c:\\users\\tufas\\appdata\\local\\programs\\python\\python311\\lib\\site-packages (from dash>=2.9.0->plotly-resampler>=0.8.3.1->pycaret) (2.0.0)\n",
      "Requirement already satisfied: dash-core-components==2.0.0 in c:\\users\\tufas\\appdata\\local\\programs\\python\\python311\\lib\\site-packages (from dash>=2.9.0->plotly-resampler>=0.8.3.1->pycaret) (2.0.0)\n",
      "Requirement already satisfied: dash-table==5.0.0 in c:\\users\\tufas\\appdata\\local\\programs\\python\\python311\\lib\\site-packages (from dash>=2.9.0->plotly-resampler>=0.8.3.1->pycaret) (5.0.0)\n",
      "Requirement already satisfied: retrying in c:\\users\\tufas\\appdata\\local\\programs\\python\\python311\\lib\\site-packages (from dash>=2.9.0->plotly-resampler>=0.8.3.1->pycaret) (1.3.4)\n",
      "Requirement already satisfied: nest-asyncio in c:\\users\\tufas\\appdata\\roaming\\python\\python311\\site-packages (from dash>=2.9.0->plotly-resampler>=0.8.3.1->pycaret) (1.6.0)\n",
      "Requirement already satisfied: parso<0.9.0,>=0.8.4 in c:\\users\\tufas\\appdata\\roaming\\python\\python311\\site-packages (from jedi>=0.16->ipython>=5.5.0->pycaret) (0.8.4)\n",
      "Requirement already satisfied: attrs>=22.2.0 in c:\\users\\tufas\\appdata\\local\\programs\\python\\python311\\lib\\site-packages (from jsonschema>=2.6->nbformat>=4.2.0->pycaret) (25.1.0)\n",
      "Requirement already satisfied: jsonschema-specifications>=2023.03.6 in c:\\users\\tufas\\appdata\\local\\programs\\python\\python311\\lib\\site-packages (from jsonschema>=2.6->nbformat>=4.2.0->pycaret) (2024.10.1)\n",
      "Requirement already satisfied: referencing>=0.28.4 in c:\\users\\tufas\\appdata\\local\\programs\\python\\python311\\lib\\site-packages (from jsonschema>=2.6->nbformat>=4.2.0->pycaret) (0.36.2)\n",
      "Requirement already satisfied: rpds-py>=0.7.1 in c:\\users\\tufas\\appdata\\local\\programs\\python\\python311\\lib\\site-packages (from jsonschema>=2.6->nbformat>=4.2.0->pycaret) (0.23.1)\n",
      "Requirement already satisfied: platformdirs>=2.5 in c:\\users\\tufas\\appdata\\roaming\\python\\python311\\site-packages (from jupyter-core!=5.0.*,>=4.12->nbformat>=4.2.0->pycaret) (4.3.6)\n",
      "Requirement already satisfied: pywin32>=300 in c:\\users\\tufas\\appdata\\roaming\\python\\python311\\site-packages (from jupyter-core!=5.0.*,>=4.12->nbformat>=4.2.0->pycaret) (308)\n",
      "Requirement already satisfied: wcwidth in c:\\users\\tufas\\appdata\\roaming\\python\\python311\\site-packages (from prompt_toolkit<3.1.0,>=3.0.41->ipython>=5.5.0->pycaret) (0.2.13)\n",
      "Requirement already satisfied: executing>=1.2.0 in c:\\users\\tufas\\appdata\\roaming\\python\\python311\\site-packages (from stack_data->ipython>=5.5.0->pycaret) (2.2.0)\n",
      "Requirement already satisfied: asttokens>=2.1.0 in c:\\users\\tufas\\appdata\\roaming\\python\\python311\\site-packages (from stack_data->ipython>=5.5.0->pycaret) (3.0.0)\n",
      "Requirement already satisfied: pure-eval in c:\\users\\tufas\\appdata\\roaming\\python\\python311\\site-packages (from stack_data->ipython>=5.5.0->pycaret) (0.2.3)\n",
      "Requirement already satisfied: itsdangerous>=2.1.2 in c:\\users\\tufas\\appdata\\local\\programs\\python\\python311\\lib\\site-packages (from Flask<3.1,>=1.0.4->dash>=2.9.0->plotly-resampler>=0.8.3.1->pycaret) (2.2.0)\n",
      "Requirement already satisfied: click>=8.1.3 in c:\\users\\tufas\\appdata\\local\\programs\\python\\python311\\lib\\site-packages (from Flask<3.1,>=1.0.4->dash>=2.9.0->plotly-resampler>=0.8.3.1->pycaret) (8.1.8)\n",
      "Requirement already satisfied: blinker>=1.6.2 in c:\\users\\tufas\\appdata\\local\\programs\\python\\python311\\lib\\site-packages (from Flask<3.1,>=1.0.4->dash>=2.9.0->plotly-resampler>=0.8.3.1->pycaret) (1.9.0)\n",
      "Using cached pycaret-3.3.2-py3-none-any.whl (486 kB)\n",
      "Using cached category_encoders-2.7.0-py3-none-any.whl (85 kB)\n",
      "Using cached imbalanced_learn-0.13.0-py3-none-any.whl (238 kB)\n",
      "Using cached nbformat-5.10.4-py3-none-any.whl (78 kB)\n",
      "Using cached plotly_resampler-0.10.0-py3-none-any.whl (80 kB)\n",
      "Using cached pmdarima-2.0.4-cp311-cp311-win_amd64.whl (614 kB)\n",
      "Using cached tbats-1.1.3-py3-none-any.whl (44 kB)\n",
      "Using cached dash-2.18.2-py3-none-any.whl (7.8 MB)\n",
      "Using cached jsonschema-4.23.0-py3-none-any.whl (88 kB)\n",
      "Installing collected packages: jsonschema, dash, pmdarima, plotly-resampler, nbformat, imbalanced-learn, category-encoders, tbats, pycaret\n",
      "Successfully installed category-encoders-2.7.0 dash-2.18.2 imbalanced-learn-0.13.0 jsonschema-4.23.0 nbformat-5.10.4 plotly-resampler-0.10.0 pmdarima-2.0.4 pycaret-3.3.2 tbats-1.1.3\n"
     ]
    },
    {
     "name": "stderr",
     "output_type": "stream",
     "text": [
      "\n",
      "[notice] A new release of pip is available: 23.2.1 -> 25.0.1\n",
      "[notice] To update, run: python.exe -m pip install --upgrade pip\n"
     ]
    }
   ],
   "source": [
    "!pip install pycaret pandas shap"
   ]
  },
  {
   "cell_type": "markdown",
   "metadata": {},
   "source": [
    "TRAIN (RANDOM FOREST)"
   ]
  },
  {
   "cell_type": "code",
   "execution_count": 12,
   "metadata": {},
   "outputs": [
    {
     "data": {
      "text/html": [
       "<style type=\"text/css\">\n",
       "#T_07a8b_row10_col1, #T_07a8b_row14_col1, #T_07a8b_row16_col1 {\n",
       "  background-color: lightgreen;\n",
       "}\n",
       "</style>\n",
       "<table id=\"T_07a8b\">\n",
       "  <thead>\n",
       "    <tr>\n",
       "      <th class=\"blank level0\" >&nbsp;</th>\n",
       "      <th id=\"T_07a8b_level0_col0\" class=\"col_heading level0 col0\" >Description</th>\n",
       "      <th id=\"T_07a8b_level0_col1\" class=\"col_heading level0 col1\" >Value</th>\n",
       "    </tr>\n",
       "  </thead>\n",
       "  <tbody>\n",
       "    <tr>\n",
       "      <th id=\"T_07a8b_level0_row0\" class=\"row_heading level0 row0\" >0</th>\n",
       "      <td id=\"T_07a8b_row0_col0\" class=\"data row0 col0\" >Session id</td>\n",
       "      <td id=\"T_07a8b_row0_col1\" class=\"data row0 col1\" >42</td>\n",
       "    </tr>\n",
       "    <tr>\n",
       "      <th id=\"T_07a8b_level0_row1\" class=\"row_heading level0 row1\" >1</th>\n",
       "      <td id=\"T_07a8b_row1_col0\" class=\"data row1 col0\" >Target</td>\n",
       "      <td id=\"T_07a8b_row1_col1\" class=\"data row1 col1\" >pm_2_5</td>\n",
       "    </tr>\n",
       "    <tr>\n",
       "      <th id=\"T_07a8b_level0_row2\" class=\"row_heading level0 row2\" >2</th>\n",
       "      <td id=\"T_07a8b_row2_col0\" class=\"data row2 col0\" >Target type</td>\n",
       "      <td id=\"T_07a8b_row2_col1\" class=\"data row2 col1\" >Regression</td>\n",
       "    </tr>\n",
       "    <tr>\n",
       "      <th id=\"T_07a8b_level0_row3\" class=\"row_heading level0 row3\" >3</th>\n",
       "      <td id=\"T_07a8b_row3_col0\" class=\"data row3 col0\" >Original data shape</td>\n",
       "      <td id=\"T_07a8b_row3_col1\" class=\"data row3 col1\" >(34465, 8)</td>\n",
       "    </tr>\n",
       "    <tr>\n",
       "      <th id=\"T_07a8b_level0_row4\" class=\"row_heading level0 row4\" >4</th>\n",
       "      <td id=\"T_07a8b_row4_col0\" class=\"data row4 col0\" >Transformed data shape</td>\n",
       "      <td id=\"T_07a8b_row4_col1\" class=\"data row4 col1\" >(34465, 2)</td>\n",
       "    </tr>\n",
       "    <tr>\n",
       "      <th id=\"T_07a8b_level0_row5\" class=\"row_heading level0 row5\" >5</th>\n",
       "      <td id=\"T_07a8b_row5_col0\" class=\"data row5 col0\" >Transformed train set shape</td>\n",
       "      <td id=\"T_07a8b_row5_col1\" class=\"data row5 col1\" >(27572, 2)</td>\n",
       "    </tr>\n",
       "    <tr>\n",
       "      <th id=\"T_07a8b_level0_row6\" class=\"row_heading level0 row6\" >6</th>\n",
       "      <td id=\"T_07a8b_row6_col0\" class=\"data row6 col0\" >Transformed test set shape</td>\n",
       "      <td id=\"T_07a8b_row6_col1\" class=\"data row6 col1\" >(6893, 2)</td>\n",
       "    </tr>\n",
       "    <tr>\n",
       "      <th id=\"T_07a8b_level0_row7\" class=\"row_heading level0 row7\" >7</th>\n",
       "      <td id=\"T_07a8b_row7_col0\" class=\"data row7 col0\" >Numeric features</td>\n",
       "      <td id=\"T_07a8b_row7_col1\" class=\"data row7 col1\" >6</td>\n",
       "    </tr>\n",
       "    <tr>\n",
       "      <th id=\"T_07a8b_level0_row8\" class=\"row_heading level0 row8\" >8</th>\n",
       "      <td id=\"T_07a8b_row8_col0\" class=\"data row8 col0\" >Date features</td>\n",
       "      <td id=\"T_07a8b_row8_col1\" class=\"data row8 col1\" >1</td>\n",
       "    </tr>\n",
       "    <tr>\n",
       "      <th id=\"T_07a8b_level0_row9\" class=\"row_heading level0 row9\" >9</th>\n",
       "      <td id=\"T_07a8b_row9_col0\" class=\"data row9 col0\" >Rows with missing values</td>\n",
       "      <td id=\"T_07a8b_row9_col1\" class=\"data row9 col1\" >0.1%</td>\n",
       "    </tr>\n",
       "    <tr>\n",
       "      <th id=\"T_07a8b_level0_row10\" class=\"row_heading level0 row10\" >10</th>\n",
       "      <td id=\"T_07a8b_row10_col0\" class=\"data row10 col0\" >Preprocess</td>\n",
       "      <td id=\"T_07a8b_row10_col1\" class=\"data row10 col1\" >True</td>\n",
       "    </tr>\n",
       "    <tr>\n",
       "      <th id=\"T_07a8b_level0_row11\" class=\"row_heading level0 row11\" >11</th>\n",
       "      <td id=\"T_07a8b_row11_col0\" class=\"data row11 col0\" >Imputation type</td>\n",
       "      <td id=\"T_07a8b_row11_col1\" class=\"data row11 col1\" >simple</td>\n",
       "    </tr>\n",
       "    <tr>\n",
       "      <th id=\"T_07a8b_level0_row12\" class=\"row_heading level0 row12\" >12</th>\n",
       "      <td id=\"T_07a8b_row12_col0\" class=\"data row12 col0\" >Numeric imputation</td>\n",
       "      <td id=\"T_07a8b_row12_col1\" class=\"data row12 col1\" >mean</td>\n",
       "    </tr>\n",
       "    <tr>\n",
       "      <th id=\"T_07a8b_level0_row13\" class=\"row_heading level0 row13\" >13</th>\n",
       "      <td id=\"T_07a8b_row13_col0\" class=\"data row13 col0\" >Categorical imputation</td>\n",
       "      <td id=\"T_07a8b_row13_col1\" class=\"data row13 col1\" >mode</td>\n",
       "    </tr>\n",
       "    <tr>\n",
       "      <th id=\"T_07a8b_level0_row14\" class=\"row_heading level0 row14\" >14</th>\n",
       "      <td id=\"T_07a8b_row14_col0\" class=\"data row14 col0\" >Normalize</td>\n",
       "      <td id=\"T_07a8b_row14_col1\" class=\"data row14 col1\" >True</td>\n",
       "    </tr>\n",
       "    <tr>\n",
       "      <th id=\"T_07a8b_level0_row15\" class=\"row_heading level0 row15\" >15</th>\n",
       "      <td id=\"T_07a8b_row15_col0\" class=\"data row15 col0\" >Normalize method</td>\n",
       "      <td id=\"T_07a8b_row15_col1\" class=\"data row15 col1\" >zscore</td>\n",
       "    </tr>\n",
       "    <tr>\n",
       "      <th id=\"T_07a8b_level0_row16\" class=\"row_heading level0 row16\" >16</th>\n",
       "      <td id=\"T_07a8b_row16_col0\" class=\"data row16 col0\" >Feature selection</td>\n",
       "      <td id=\"T_07a8b_row16_col1\" class=\"data row16 col1\" >True</td>\n",
       "    </tr>\n",
       "    <tr>\n",
       "      <th id=\"T_07a8b_level0_row17\" class=\"row_heading level0 row17\" >17</th>\n",
       "      <td id=\"T_07a8b_row17_col0\" class=\"data row17 col0\" >Feature selection method</td>\n",
       "      <td id=\"T_07a8b_row17_col1\" class=\"data row17 col1\" >classic</td>\n",
       "    </tr>\n",
       "    <tr>\n",
       "      <th id=\"T_07a8b_level0_row18\" class=\"row_heading level0 row18\" >18</th>\n",
       "      <td id=\"T_07a8b_row18_col0\" class=\"data row18 col0\" >Feature selection estimator</td>\n",
       "      <td id=\"T_07a8b_row18_col1\" class=\"data row18 col1\" >lightgbm</td>\n",
       "    </tr>\n",
       "    <tr>\n",
       "      <th id=\"T_07a8b_level0_row19\" class=\"row_heading level0 row19\" >19</th>\n",
       "      <td id=\"T_07a8b_row19_col0\" class=\"data row19 col0\" >Number of features selected</td>\n",
       "      <td id=\"T_07a8b_row19_col1\" class=\"data row19 col1\" >0.200000</td>\n",
       "    </tr>\n",
       "    <tr>\n",
       "      <th id=\"T_07a8b_level0_row20\" class=\"row_heading level0 row20\" >20</th>\n",
       "      <td id=\"T_07a8b_row20_col0\" class=\"data row20 col0\" >Fold Generator</td>\n",
       "      <td id=\"T_07a8b_row20_col1\" class=\"data row20 col1\" >KFold</td>\n",
       "    </tr>\n",
       "    <tr>\n",
       "      <th id=\"T_07a8b_level0_row21\" class=\"row_heading level0 row21\" >21</th>\n",
       "      <td id=\"T_07a8b_row21_col0\" class=\"data row21 col0\" >Fold Number</td>\n",
       "      <td id=\"T_07a8b_row21_col1\" class=\"data row21 col1\" >10</td>\n",
       "    </tr>\n",
       "    <tr>\n",
       "      <th id=\"T_07a8b_level0_row22\" class=\"row_heading level0 row22\" >22</th>\n",
       "      <td id=\"T_07a8b_row22_col0\" class=\"data row22 col0\" >CPU Jobs</td>\n",
       "      <td id=\"T_07a8b_row22_col1\" class=\"data row22 col1\" >-1</td>\n",
       "    </tr>\n",
       "    <tr>\n",
       "      <th id=\"T_07a8b_level0_row23\" class=\"row_heading level0 row23\" >23</th>\n",
       "      <td id=\"T_07a8b_row23_col0\" class=\"data row23 col0\" >Use GPU</td>\n",
       "      <td id=\"T_07a8b_row23_col1\" class=\"data row23 col1\" >False</td>\n",
       "    </tr>\n",
       "    <tr>\n",
       "      <th id=\"T_07a8b_level0_row24\" class=\"row_heading level0 row24\" >24</th>\n",
       "      <td id=\"T_07a8b_row24_col0\" class=\"data row24 col0\" >Log Experiment</td>\n",
       "      <td id=\"T_07a8b_row24_col1\" class=\"data row24 col1\" >False</td>\n",
       "    </tr>\n",
       "    <tr>\n",
       "      <th id=\"T_07a8b_level0_row25\" class=\"row_heading level0 row25\" >25</th>\n",
       "      <td id=\"T_07a8b_row25_col0\" class=\"data row25 col0\" >Experiment Name</td>\n",
       "      <td id=\"T_07a8b_row25_col1\" class=\"data row25 col1\" >reg-default-name</td>\n",
       "    </tr>\n",
       "    <tr>\n",
       "      <th id=\"T_07a8b_level0_row26\" class=\"row_heading level0 row26\" >26</th>\n",
       "      <td id=\"T_07a8b_row26_col0\" class=\"data row26 col0\" >USI</td>\n",
       "      <td id=\"T_07a8b_row26_col1\" class=\"data row26 col1\" >dd2c</td>\n",
       "    </tr>\n",
       "  </tbody>\n",
       "</table>\n"
      ],
      "text/plain": [
       "<pandas.io.formats.style.Styler at 0x16cc50592d0>"
      ]
     },
     "metadata": {},
     "output_type": "display_data"
    },
    {
     "data": {
      "text/html": [],
      "text/plain": [
       "<IPython.core.display.HTML object>"
      ]
     },
     "metadata": {},
     "output_type": "display_data"
    },
    {
     "data": {
      "text/html": [
       "<style type=\"text/css\">\n",
       "#T_26a83_row10_col0, #T_26a83_row10_col1, #T_26a83_row10_col2, #T_26a83_row10_col3, #T_26a83_row10_col4, #T_26a83_row10_col5 {\n",
       "  background: yellow;\n",
       "}\n",
       "</style>\n",
       "<table id=\"T_26a83\">\n",
       "  <thead>\n",
       "    <tr>\n",
       "      <th class=\"blank level0\" >&nbsp;</th>\n",
       "      <th id=\"T_26a83_level0_col0\" class=\"col_heading level0 col0\" >MAE</th>\n",
       "      <th id=\"T_26a83_level0_col1\" class=\"col_heading level0 col1\" >MSE</th>\n",
       "      <th id=\"T_26a83_level0_col2\" class=\"col_heading level0 col2\" >RMSE</th>\n",
       "      <th id=\"T_26a83_level0_col3\" class=\"col_heading level0 col3\" >R2</th>\n",
       "      <th id=\"T_26a83_level0_col4\" class=\"col_heading level0 col4\" >RMSLE</th>\n",
       "      <th id=\"T_26a83_level0_col5\" class=\"col_heading level0 col5\" >MAPE</th>\n",
       "    </tr>\n",
       "    <tr>\n",
       "      <th class=\"index_name level0\" >Fold</th>\n",
       "      <th class=\"blank col0\" >&nbsp;</th>\n",
       "      <th class=\"blank col1\" >&nbsp;</th>\n",
       "      <th class=\"blank col2\" >&nbsp;</th>\n",
       "      <th class=\"blank col3\" >&nbsp;</th>\n",
       "      <th class=\"blank col4\" >&nbsp;</th>\n",
       "      <th class=\"blank col5\" >&nbsp;</th>\n",
       "    </tr>\n",
       "  </thead>\n",
       "  <tbody>\n",
       "    <tr>\n",
       "      <th id=\"T_26a83_level0_row0\" class=\"row_heading level0 row0\" >0</th>\n",
       "      <td id=\"T_26a83_row0_col0\" class=\"data row0 col0\" >2.9695</td>\n",
       "      <td id=\"T_26a83_row0_col1\" class=\"data row0 col1\" >21.2358</td>\n",
       "      <td id=\"T_26a83_row0_col2\" class=\"data row0 col2\" >4.6082</td>\n",
       "      <td id=\"T_26a83_row0_col3\" class=\"data row0 col3\" >0.7004</td>\n",
       "      <td id=\"T_26a83_row0_col4\" class=\"data row0 col4\" >0.3266</td>\n",
       "      <td id=\"T_26a83_row0_col5\" class=\"data row0 col5\" >0.3148</td>\n",
       "    </tr>\n",
       "    <tr>\n",
       "      <th id=\"T_26a83_level0_row1\" class=\"row_heading level0 row1\" >1</th>\n",
       "      <td id=\"T_26a83_row1_col0\" class=\"data row1 col0\" >3.0269</td>\n",
       "      <td id=\"T_26a83_row1_col1\" class=\"data row1 col1\" >22.4206</td>\n",
       "      <td id=\"T_26a83_row1_col2\" class=\"data row1 col2\" >4.7350</td>\n",
       "      <td id=\"T_26a83_row1_col3\" class=\"data row1 col3\" >0.7086</td>\n",
       "      <td id=\"T_26a83_row1_col4\" class=\"data row1 col4\" >0.3233</td>\n",
       "      <td id=\"T_26a83_row1_col5\" class=\"data row1 col5\" >0.3150</td>\n",
       "    </tr>\n",
       "    <tr>\n",
       "      <th id=\"T_26a83_level0_row2\" class=\"row_heading level0 row2\" >2</th>\n",
       "      <td id=\"T_26a83_row2_col0\" class=\"data row2 col0\" >2.9007</td>\n",
       "      <td id=\"T_26a83_row2_col1\" class=\"data row2 col1\" >20.5783</td>\n",
       "      <td id=\"T_26a83_row2_col2\" class=\"data row2 col2\" >4.5363</td>\n",
       "      <td id=\"T_26a83_row2_col3\" class=\"data row2 col3\" >0.7153</td>\n",
       "      <td id=\"T_26a83_row2_col4\" class=\"data row2 col4\" >0.3210</td>\n",
       "      <td id=\"T_26a83_row2_col5\" class=\"data row2 col5\" >0.3094</td>\n",
       "    </tr>\n",
       "    <tr>\n",
       "      <th id=\"T_26a83_level0_row3\" class=\"row_heading level0 row3\" >3</th>\n",
       "      <td id=\"T_26a83_row3_col0\" class=\"data row3 col0\" >2.9944</td>\n",
       "      <td id=\"T_26a83_row3_col1\" class=\"data row3 col1\" >22.0048</td>\n",
       "      <td id=\"T_26a83_row3_col2\" class=\"data row3 col2\" >4.6909</td>\n",
       "      <td id=\"T_26a83_row3_col3\" class=\"data row3 col3\" >0.6825</td>\n",
       "      <td id=\"T_26a83_row3_col4\" class=\"data row3 col4\" >0.3241</td>\n",
       "      <td id=\"T_26a83_row3_col5\" class=\"data row3 col5\" >0.3531</td>\n",
       "    </tr>\n",
       "    <tr>\n",
       "      <th id=\"T_26a83_level0_row4\" class=\"row_heading level0 row4\" >4</th>\n",
       "      <td id=\"T_26a83_row4_col0\" class=\"data row4 col0\" >2.9344</td>\n",
       "      <td id=\"T_26a83_row4_col1\" class=\"data row4 col1\" >20.5894</td>\n",
       "      <td id=\"T_26a83_row4_col2\" class=\"data row4 col2\" >4.5376</td>\n",
       "      <td id=\"T_26a83_row4_col3\" class=\"data row4 col3\" >0.7222</td>\n",
       "      <td id=\"T_26a83_row4_col4\" class=\"data row4 col4\" >0.3212</td>\n",
       "      <td id=\"T_26a83_row4_col5\" class=\"data row4 col5\" >0.3153</td>\n",
       "    </tr>\n",
       "    <tr>\n",
       "      <th id=\"T_26a83_level0_row5\" class=\"row_heading level0 row5\" >5</th>\n",
       "      <td id=\"T_26a83_row5_col0\" class=\"data row5 col0\" >2.9970</td>\n",
       "      <td id=\"T_26a83_row5_col1\" class=\"data row5 col1\" >20.5434</td>\n",
       "      <td id=\"T_26a83_row5_col2\" class=\"data row5 col2\" >4.5325</td>\n",
       "      <td id=\"T_26a83_row5_col3\" class=\"data row5 col3\" >0.7153</td>\n",
       "      <td id=\"T_26a83_row5_col4\" class=\"data row5 col4\" >0.3155</td>\n",
       "      <td id=\"T_26a83_row5_col5\" class=\"data row5 col5\" >0.3021</td>\n",
       "    </tr>\n",
       "    <tr>\n",
       "      <th id=\"T_26a83_level0_row6\" class=\"row_heading level0 row6\" >6</th>\n",
       "      <td id=\"T_26a83_row6_col0\" class=\"data row6 col0\" >3.0700</td>\n",
       "      <td id=\"T_26a83_row6_col1\" class=\"data row6 col1\" >21.5823</td>\n",
       "      <td id=\"T_26a83_row6_col2\" class=\"data row6 col2\" >4.6457</td>\n",
       "      <td id=\"T_26a83_row6_col3\" class=\"data row6 col3\" >0.7018</td>\n",
       "      <td id=\"T_26a83_row6_col4\" class=\"data row6 col4\" >0.3267</td>\n",
       "      <td id=\"T_26a83_row6_col5\" class=\"data row6 col5\" >0.3220</td>\n",
       "    </tr>\n",
       "    <tr>\n",
       "      <th id=\"T_26a83_level0_row7\" class=\"row_heading level0 row7\" >7</th>\n",
       "      <td id=\"T_26a83_row7_col0\" class=\"data row7 col0\" >2.9635</td>\n",
       "      <td id=\"T_26a83_row7_col1\" class=\"data row7 col1\" >21.2745</td>\n",
       "      <td id=\"T_26a83_row7_col2\" class=\"data row7 col2\" >4.6124</td>\n",
       "      <td id=\"T_26a83_row7_col3\" class=\"data row7 col3\" >0.6969</td>\n",
       "      <td id=\"T_26a83_row7_col4\" class=\"data row7 col4\" >0.3328</td>\n",
       "      <td id=\"T_26a83_row7_col5\" class=\"data row7 col5\" >0.3256</td>\n",
       "    </tr>\n",
       "    <tr>\n",
       "      <th id=\"T_26a83_level0_row8\" class=\"row_heading level0 row8\" >8</th>\n",
       "      <td id=\"T_26a83_row8_col0\" class=\"data row8 col0\" >2.9405</td>\n",
       "      <td id=\"T_26a83_row8_col1\" class=\"data row8 col1\" >20.5146</td>\n",
       "      <td id=\"T_26a83_row8_col2\" class=\"data row8 col2\" >4.5293</td>\n",
       "      <td id=\"T_26a83_row8_col3\" class=\"data row8 col3\" >0.7206</td>\n",
       "      <td id=\"T_26a83_row8_col4\" class=\"data row8 col4\" >0.3207</td>\n",
       "      <td id=\"T_26a83_row8_col5\" class=\"data row8 col5\" >0.3662</td>\n",
       "    </tr>\n",
       "    <tr>\n",
       "      <th id=\"T_26a83_level0_row9\" class=\"row_heading level0 row9\" >9</th>\n",
       "      <td id=\"T_26a83_row9_col0\" class=\"data row9 col0\" >2.9146</td>\n",
       "      <td id=\"T_26a83_row9_col1\" class=\"data row9 col1\" >20.0543</td>\n",
       "      <td id=\"T_26a83_row9_col2\" class=\"data row9 col2\" >4.4782</td>\n",
       "      <td id=\"T_26a83_row9_col3\" class=\"data row9 col3\" >0.7180</td>\n",
       "      <td id=\"T_26a83_row9_col4\" class=\"data row9 col4\" >0.3204</td>\n",
       "      <td id=\"T_26a83_row9_col5\" class=\"data row9 col5\" >0.2999</td>\n",
       "    </tr>\n",
       "    <tr>\n",
       "      <th id=\"T_26a83_level0_row10\" class=\"row_heading level0 row10\" >Mean</th>\n",
       "      <td id=\"T_26a83_row10_col0\" class=\"data row10 col0\" >2.9711</td>\n",
       "      <td id=\"T_26a83_row10_col1\" class=\"data row10 col1\" >21.0798</td>\n",
       "      <td id=\"T_26a83_row10_col2\" class=\"data row10 col2\" >4.5906</td>\n",
       "      <td id=\"T_26a83_row10_col3\" class=\"data row10 col3\" >0.7082</td>\n",
       "      <td id=\"T_26a83_row10_col4\" class=\"data row10 col4\" >0.3232</td>\n",
       "      <td id=\"T_26a83_row10_col5\" class=\"data row10 col5\" >0.3223</td>\n",
       "    </tr>\n",
       "    <tr>\n",
       "      <th id=\"T_26a83_level0_row11\" class=\"row_heading level0 row11\" >Std</th>\n",
       "      <td id=\"T_26a83_row11_col0\" class=\"data row11 col0\" >0.0496</td>\n",
       "      <td id=\"T_26a83_row11_col1\" class=\"data row11 col1\" >0.7155</td>\n",
       "      <td id=\"T_26a83_row11_col2\" class=\"data row11 col2\" >0.0776</td>\n",
       "      <td id=\"T_26a83_row11_col3\" class=\"data row11 col3\" >0.0120</td>\n",
       "      <td id=\"T_26a83_row11_col4\" class=\"data row11 col4\" >0.0045</td>\n",
       "      <td id=\"T_26a83_row11_col5\" class=\"data row11 col5\" >0.0203</td>\n",
       "    </tr>\n",
       "  </tbody>\n",
       "</table>\n"
      ],
      "text/plain": [
       "<pandas.io.formats.style.Styler at 0x16cc90da050>"
      ]
     },
     "metadata": {},
     "output_type": "display_data"
    },
    {
     "data": {
      "text/html": [],
      "text/plain": [
       "<IPython.core.display.HTML object>"
      ]
     },
     "metadata": {},
     "output_type": "display_data"
    },
    {
     "data": {
      "text/html": [],
      "text/plain": [
       "<IPython.core.display.HTML object>"
      ]
     },
     "metadata": {},
     "output_type": "display_data"
    },
    {
     "data": {
      "text/html": [],
      "text/plain": [
       "<IPython.core.display.HTML object>"
      ]
     },
     "metadata": {},
     "output_type": "display_data"
    },
    {
     "data": {
      "text/html": [],
      "text/plain": [
       "<IPython.core.display.HTML object>"
      ]
     },
     "metadata": {},
     "output_type": "display_data"
    },
    {
     "data": {
      "text/html": [],
      "text/plain": [
       "<IPython.core.display.HTML object>"
      ]
     },
     "metadata": {},
     "output_type": "display_data"
    },
    {
     "data": {
      "text/html": [],
      "text/plain": [
       "<IPython.core.display.HTML object>"
      ]
     },
     "metadata": {},
     "output_type": "display_data"
    },
    {
     "data": {
      "text/html": [],
      "text/plain": [
       "<IPython.core.display.HTML object>"
      ]
     },
     "metadata": {},
     "output_type": "display_data"
    },
    {
     "data": {
      "text/html": [],
      "text/plain": [
       "<IPython.core.display.HTML object>"
      ]
     },
     "metadata": {},
     "output_type": "display_data"
    },
    {
     "data": {
      "text/html": [],
      "text/plain": [
       "<IPython.core.display.HTML object>"
      ]
     },
     "metadata": {},
     "output_type": "display_data"
    },
    {
     "data": {
      "text/html": [],
      "text/plain": [
       "<IPython.core.display.HTML object>"
      ]
     },
     "metadata": {},
     "output_type": "display_data"
    },
    {
     "data": {
      "text/html": [],
      "text/plain": [
       "<IPython.core.display.HTML object>"
      ]
     },
     "metadata": {},
     "output_type": "display_data"
    },
    {
     "data": {
      "text/html": [],
      "text/plain": [
       "<IPython.core.display.HTML object>"
      ]
     },
     "metadata": {},
     "output_type": "display_data"
    },
    {
     "data": {
      "text/html": [],
      "text/plain": [
       "<IPython.core.display.HTML object>"
      ]
     },
     "metadata": {},
     "output_type": "display_data"
    },
    {
     "data": {
      "text/html": [],
      "text/plain": [
       "<IPython.core.display.HTML object>"
      ]
     },
     "metadata": {},
     "output_type": "display_data"
    },
    {
     "data": {
      "text/html": [],
      "text/plain": [
       "<IPython.core.display.HTML object>"
      ]
     },
     "metadata": {},
     "output_type": "display_data"
    },
    {
     "data": {
      "text/html": [],
      "text/plain": [
       "<IPython.core.display.HTML object>"
      ]
     },
     "metadata": {},
     "output_type": "display_data"
    },
    {
     "data": {
      "text/html": [],
      "text/plain": [
       "<IPython.core.display.HTML object>"
      ]
     },
     "metadata": {},
     "output_type": "display_data"
    },
    {
     "data": {
      "text/html": [],
      "text/plain": [
       "<IPython.core.display.HTML object>"
      ]
     },
     "metadata": {},
     "output_type": "display_data"
    },
    {
     "data": {
      "text/html": [],
      "text/plain": [
       "<IPython.core.display.HTML object>"
      ]
     },
     "metadata": {},
     "output_type": "display_data"
    },
    {
     "data": {
      "text/html": [],
      "text/plain": [
       "<IPython.core.display.HTML object>"
      ]
     },
     "metadata": {},
     "output_type": "display_data"
    },
    {
     "data": {
      "text/html": [],
      "text/plain": [
       "<IPython.core.display.HTML object>"
      ]
     },
     "metadata": {},
     "output_type": "display_data"
    },
    {
     "data": {
      "text/html": [],
      "text/plain": [
       "<IPython.core.display.HTML object>"
      ]
     },
     "metadata": {},
     "output_type": "display_data"
    },
    {
     "data": {
      "text/html": [],
      "text/plain": [
       "<IPython.core.display.HTML object>"
      ]
     },
     "metadata": {},
     "output_type": "display_data"
    },
    {
     "data": {
      "text/html": [],
      "text/plain": [
       "<IPython.core.display.HTML object>"
      ]
     },
     "metadata": {},
     "output_type": "display_data"
    },
    {
     "data": {
      "text/html": [],
      "text/plain": [
       "<IPython.core.display.HTML object>"
      ]
     },
     "metadata": {},
     "output_type": "display_data"
    },
    {
     "data": {
      "text/html": [],
      "text/plain": [
       "<IPython.core.display.HTML object>"
      ]
     },
     "metadata": {},
     "output_type": "display_data"
    },
    {
     "data": {
      "text/html": [],
      "text/plain": [
       "<IPython.core.display.HTML object>"
      ]
     },
     "metadata": {},
     "output_type": "display_data"
    },
    {
     "data": {
      "text/html": [],
      "text/plain": [
       "<IPython.core.display.HTML object>"
      ]
     },
     "metadata": {},
     "output_type": "display_data"
    },
    {
     "data": {
      "text/html": [],
      "text/plain": [
       "<IPython.core.display.HTML object>"
      ]
     },
     "metadata": {},
     "output_type": "display_data"
    },
    {
     "data": {
      "text/html": [],
      "text/plain": [
       "<IPython.core.display.HTML object>"
      ]
     },
     "metadata": {},
     "output_type": "display_data"
    },
    {
     "data": {
      "text/html": [],
      "text/plain": [
       "<IPython.core.display.HTML object>"
      ]
     },
     "metadata": {},
     "output_type": "display_data"
    },
    {
     "data": {
      "text/html": [],
      "text/plain": [
       "<IPython.core.display.HTML object>"
      ]
     },
     "metadata": {},
     "output_type": "display_data"
    },
    {
     "data": {
      "text/html": [],
      "text/plain": [
       "<IPython.core.display.HTML object>"
      ]
     },
     "metadata": {},
     "output_type": "display_data"
    },
    {
     "data": {
      "text/html": [],
      "text/plain": [
       "<IPython.core.display.HTML object>"
      ]
     },
     "metadata": {},
     "output_type": "display_data"
    },
    {
     "data": {
      "text/html": [],
      "text/plain": [
       "<IPython.core.display.HTML object>"
      ]
     },
     "metadata": {},
     "output_type": "display_data"
    },
    {
     "data": {
      "text/html": [],
      "text/plain": [
       "<IPython.core.display.HTML object>"
      ]
     },
     "metadata": {},
     "output_type": "display_data"
    },
    {
     "data": {
      "text/html": [],
      "text/plain": [
       "<IPython.core.display.HTML object>"
      ]
     },
     "metadata": {},
     "output_type": "display_data"
    },
    {
     "data": {
      "text/html": [],
      "text/plain": [
       "<IPython.core.display.HTML object>"
      ]
     },
     "metadata": {},
     "output_type": "display_data"
    },
    {
     "data": {
      "text/html": [],
      "text/plain": [
       "<IPython.core.display.HTML object>"
      ]
     },
     "metadata": {},
     "output_type": "display_data"
    },
    {
     "data": {
      "text/html": [],
      "text/plain": [
       "<IPython.core.display.HTML object>"
      ]
     },
     "metadata": {},
     "output_type": "display_data"
    },
    {
     "data": {
      "text/html": [],
      "text/plain": [
       "<IPython.core.display.HTML object>"
      ]
     },
     "metadata": {},
     "output_type": "display_data"
    },
    {
     "data": {
      "text/html": [],
      "text/plain": [
       "<IPython.core.display.HTML object>"
      ]
     },
     "metadata": {},
     "output_type": "display_data"
    },
    {
     "data": {
      "text/html": [],
      "text/plain": [
       "<IPython.core.display.HTML object>"
      ]
     },
     "metadata": {},
     "output_type": "display_data"
    },
    {
     "data": {
      "text/html": [],
      "text/plain": [
       "<IPython.core.display.HTML object>"
      ]
     },
     "metadata": {},
     "output_type": "display_data"
    },
    {
     "data": {
      "text/html": [],
      "text/plain": [
       "<IPython.core.display.HTML object>"
      ]
     },
     "metadata": {},
     "output_type": "display_data"
    },
    {
     "data": {
      "text/html": [],
      "text/plain": [
       "<IPython.core.display.HTML object>"
      ]
     },
     "metadata": {},
     "output_type": "display_data"
    },
    {
     "data": {
      "text/html": [],
      "text/plain": [
       "<IPython.core.display.HTML object>"
      ]
     },
     "metadata": {},
     "output_type": "display_data"
    },
    {
     "data": {
      "text/html": [],
      "text/plain": [
       "<IPython.core.display.HTML object>"
      ]
     },
     "metadata": {},
     "output_type": "display_data"
    },
    {
     "data": {
      "text/html": [],
      "text/plain": [
       "<IPython.core.display.HTML object>"
      ]
     },
     "metadata": {},
     "output_type": "display_data"
    },
    {
     "data": {
      "text/html": [],
      "text/plain": [
       "<IPython.core.display.HTML object>"
      ]
     },
     "metadata": {},
     "output_type": "display_data"
    },
    {
     "data": {
      "text/html": [],
      "text/plain": [
       "<IPython.core.display.HTML object>"
      ]
     },
     "metadata": {},
     "output_type": "display_data"
    },
    {
     "data": {
      "text/html": [],
      "text/plain": [
       "<IPython.core.display.HTML object>"
      ]
     },
     "metadata": {},
     "output_type": "display_data"
    },
    {
     "data": {
      "text/html": [],
      "text/plain": [
       "<IPython.core.display.HTML object>"
      ]
     },
     "metadata": {},
     "output_type": "display_data"
    },
    {
     "data": {
      "text/html": [],
      "text/plain": [
       "<IPython.core.display.HTML object>"
      ]
     },
     "metadata": {},
     "output_type": "display_data"
    },
    {
     "data": {
      "text/html": [],
      "text/plain": [
       "<IPython.core.display.HTML object>"
      ]
     },
     "metadata": {},
     "output_type": "display_data"
    },
    {
     "data": {
      "text/html": [],
      "text/plain": [
       "<IPython.core.display.HTML object>"
      ]
     },
     "metadata": {},
     "output_type": "display_data"
    },
    {
     "data": {
      "text/html": [],
      "text/plain": [
       "<IPython.core.display.HTML object>"
      ]
     },
     "metadata": {},
     "output_type": "display_data"
    },
    {
     "data": {
      "text/html": [],
      "text/plain": [
       "<IPython.core.display.HTML object>"
      ]
     },
     "metadata": {},
     "output_type": "display_data"
    },
    {
     "data": {
      "text/html": [],
      "text/plain": [
       "<IPython.core.display.HTML object>"
      ]
     },
     "metadata": {},
     "output_type": "display_data"
    },
    {
     "data": {
      "text/html": [],
      "text/plain": [
       "<IPython.core.display.HTML object>"
      ]
     },
     "metadata": {},
     "output_type": "display_data"
    },
    {
     "data": {
      "text/html": [],
      "text/plain": [
       "<IPython.core.display.HTML object>"
      ]
     },
     "metadata": {},
     "output_type": "display_data"
    },
    {
     "data": {
      "text/html": [],
      "text/plain": [
       "<IPython.core.display.HTML object>"
      ]
     },
     "metadata": {},
     "output_type": "display_data"
    },
    {
     "data": {
      "text/html": [],
      "text/plain": [
       "<IPython.core.display.HTML object>"
      ]
     },
     "metadata": {},
     "output_type": "display_data"
    },
    {
     "data": {
      "text/html": [],
      "text/plain": [
       "<IPython.core.display.HTML object>"
      ]
     },
     "metadata": {},
     "output_type": "display_data"
    },
    {
     "data": {
      "text/html": [],
      "text/plain": [
       "<IPython.core.display.HTML object>"
      ]
     },
     "metadata": {},
     "output_type": "display_data"
    },
    {
     "data": {
      "text/html": [],
      "text/plain": [
       "<IPython.core.display.HTML object>"
      ]
     },
     "metadata": {},
     "output_type": "display_data"
    },
    {
     "data": {
      "text/html": [],
      "text/plain": [
       "<IPython.core.display.HTML object>"
      ]
     },
     "metadata": {},
     "output_type": "display_data"
    },
    {
     "data": {
      "text/html": [],
      "text/plain": [
       "<IPython.core.display.HTML object>"
      ]
     },
     "metadata": {},
     "output_type": "display_data"
    },
    {
     "data": {
      "text/html": [],
      "text/plain": [
       "<IPython.core.display.HTML object>"
      ]
     },
     "metadata": {},
     "output_type": "display_data"
    },
    {
     "data": {
      "text/html": [],
      "text/plain": [
       "<IPython.core.display.HTML object>"
      ]
     },
     "metadata": {},
     "output_type": "display_data"
    },
    {
     "data": {
      "text/html": [],
      "text/plain": [
       "<IPython.core.display.HTML object>"
      ]
     },
     "metadata": {},
     "output_type": "display_data"
    },
    {
     "data": {
      "text/html": [],
      "text/plain": [
       "<IPython.core.display.HTML object>"
      ]
     },
     "metadata": {},
     "output_type": "display_data"
    },
    {
     "data": {
      "text/html": [],
      "text/plain": [
       "<IPython.core.display.HTML object>"
      ]
     },
     "metadata": {},
     "output_type": "display_data"
    },
    {
     "data": {
      "text/html": [],
      "text/plain": [
       "<IPython.core.display.HTML object>"
      ]
     },
     "metadata": {},
     "output_type": "display_data"
    },
    {
     "data": {
      "text/html": [],
      "text/plain": [
       "<IPython.core.display.HTML object>"
      ]
     },
     "metadata": {},
     "output_type": "display_data"
    },
    {
     "data": {
      "text/html": [],
      "text/plain": [
       "<IPython.core.display.HTML object>"
      ]
     },
     "metadata": {},
     "output_type": "display_data"
    },
    {
     "data": {
      "text/html": [],
      "text/plain": [
       "<IPython.core.display.HTML object>"
      ]
     },
     "metadata": {},
     "output_type": "display_data"
    },
    {
     "data": {
      "text/html": [],
      "text/plain": [
       "<IPython.core.display.HTML object>"
      ]
     },
     "metadata": {},
     "output_type": "display_data"
    },
    {
     "data": {
      "text/html": [],
      "text/plain": [
       "<IPython.core.display.HTML object>"
      ]
     },
     "metadata": {},
     "output_type": "display_data"
    },
    {
     "data": {
      "text/html": [],
      "text/plain": [
       "<IPython.core.display.HTML object>"
      ]
     },
     "metadata": {},
     "output_type": "display_data"
    },
    {
     "data": {
      "text/html": [],
      "text/plain": [
       "<IPython.core.display.HTML object>"
      ]
     },
     "metadata": {},
     "output_type": "display_data"
    },
    {
     "data": {
      "text/html": [],
      "text/plain": [
       "<IPython.core.display.HTML object>"
      ]
     },
     "metadata": {},
     "output_type": "display_data"
    },
    {
     "data": {
      "text/html": [],
      "text/plain": [
       "<IPython.core.display.HTML object>"
      ]
     },
     "metadata": {},
     "output_type": "display_data"
    },
    {
     "data": {
      "text/html": [],
      "text/plain": [
       "<IPython.core.display.HTML object>"
      ]
     },
     "metadata": {},
     "output_type": "display_data"
    },
    {
     "data": {
      "text/html": [],
      "text/plain": [
       "<IPython.core.display.HTML object>"
      ]
     },
     "metadata": {},
     "output_type": "display_data"
    },
    {
     "data": {
      "text/html": [],
      "text/plain": [
       "<IPython.core.display.HTML object>"
      ]
     },
     "metadata": {},
     "output_type": "display_data"
    },
    {
     "data": {
      "text/html": [],
      "text/plain": [
       "<IPython.core.display.HTML object>"
      ]
     },
     "metadata": {},
     "output_type": "display_data"
    },
    {
     "data": {
      "text/html": [],
      "text/plain": [
       "<IPython.core.display.HTML object>"
      ]
     },
     "metadata": {},
     "output_type": "display_data"
    },
    {
     "data": {
      "text/html": [],
      "text/plain": [
       "<IPython.core.display.HTML object>"
      ]
     },
     "metadata": {},
     "output_type": "display_data"
    },
    {
     "data": {
      "text/html": [],
      "text/plain": [
       "<IPython.core.display.HTML object>"
      ]
     },
     "metadata": {},
     "output_type": "display_data"
    },
    {
     "data": {
      "text/html": [],
      "text/plain": [
       "<IPython.core.display.HTML object>"
      ]
     },
     "metadata": {},
     "output_type": "display_data"
    },
    {
     "data": {
      "text/html": [],
      "text/plain": [
       "<IPython.core.display.HTML object>"
      ]
     },
     "metadata": {},
     "output_type": "display_data"
    },
    {
     "data": {
      "text/html": [],
      "text/plain": [
       "<IPython.core.display.HTML object>"
      ]
     },
     "metadata": {},
     "output_type": "display_data"
    },
    {
     "data": {
      "text/html": [],
      "text/plain": [
       "<IPython.core.display.HTML object>"
      ]
     },
     "metadata": {},
     "output_type": "display_data"
    },
    {
     "data": {
      "text/html": [],
      "text/plain": [
       "<IPython.core.display.HTML object>"
      ]
     },
     "metadata": {},
     "output_type": "display_data"
    },
    {
     "data": {
      "text/html": [],
      "text/plain": [
       "<IPython.core.display.HTML object>"
      ]
     },
     "metadata": {},
     "output_type": "display_data"
    },
    {
     "data": {
      "text/html": [],
      "text/plain": [
       "<IPython.core.display.HTML object>"
      ]
     },
     "metadata": {},
     "output_type": "display_data"
    },
    {
     "data": {
      "text/html": [],
      "text/plain": [
       "<IPython.core.display.HTML object>"
      ]
     },
     "metadata": {},
     "output_type": "display_data"
    },
    {
     "data": {
      "text/html": [],
      "text/plain": [
       "<IPython.core.display.HTML object>"
      ]
     },
     "metadata": {},
     "output_type": "display_data"
    },
    {
     "data": {
      "text/html": [],
      "text/plain": [
       "<IPython.core.display.HTML object>"
      ]
     },
     "metadata": {},
     "output_type": "display_data"
    },
    {
     "data": {
      "text/html": [],
      "text/plain": [
       "<IPython.core.display.HTML object>"
      ]
     },
     "metadata": {},
     "output_type": "display_data"
    },
    {
     "data": {
      "text/html": [],
      "text/plain": [
       "<IPython.core.display.HTML object>"
      ]
     },
     "metadata": {},
     "output_type": "display_data"
    },
    {
     "data": {
      "text/html": [],
      "text/plain": [
       "<IPython.core.display.HTML object>"
      ]
     },
     "metadata": {},
     "output_type": "display_data"
    },
    {
     "data": {
      "text/html": [],
      "text/plain": [
       "<IPython.core.display.HTML object>"
      ]
     },
     "metadata": {},
     "output_type": "display_data"
    },
    {
     "data": {
      "text/html": [],
      "text/plain": [
       "<IPython.core.display.HTML object>"
      ]
     },
     "metadata": {},
     "output_type": "display_data"
    },
    {
     "data": {
      "text/html": [],
      "text/plain": [
       "<IPython.core.display.HTML object>"
      ]
     },
     "metadata": {},
     "output_type": "display_data"
    },
    {
     "data": {
      "text/html": [],
      "text/plain": [
       "<IPython.core.display.HTML object>"
      ]
     },
     "metadata": {},
     "output_type": "display_data"
    },
    {
     "data": {
      "text/html": [],
      "text/plain": [
       "<IPython.core.display.HTML object>"
      ]
     },
     "metadata": {},
     "output_type": "display_data"
    },
    {
     "data": {
      "text/html": [],
      "text/plain": [
       "<IPython.core.display.HTML object>"
      ]
     },
     "metadata": {},
     "output_type": "display_data"
    },
    {
     "data": {
      "text/html": [],
      "text/plain": [
       "<IPython.core.display.HTML object>"
      ]
     },
     "metadata": {},
     "output_type": "display_data"
    },
    {
     "data": {
      "text/html": [],
      "text/plain": [
       "<IPython.core.display.HTML object>"
      ]
     },
     "metadata": {},
     "output_type": "display_data"
    },
    {
     "data": {
      "text/html": [],
      "text/plain": [
       "<IPython.core.display.HTML object>"
      ]
     },
     "metadata": {},
     "output_type": "display_data"
    },
    {
     "data": {
      "text/html": [],
      "text/plain": [
       "<IPython.core.display.HTML object>"
      ]
     },
     "metadata": {},
     "output_type": "display_data"
    },
    {
     "data": {
      "text/html": [],
      "text/plain": [
       "<IPython.core.display.HTML object>"
      ]
     },
     "metadata": {},
     "output_type": "display_data"
    },
    {
     "data": {
      "text/html": [],
      "text/plain": [
       "<IPython.core.display.HTML object>"
      ]
     },
     "metadata": {},
     "output_type": "display_data"
    },
    {
     "data": {
      "text/html": [],
      "text/plain": [
       "<IPython.core.display.HTML object>"
      ]
     },
     "metadata": {},
     "output_type": "display_data"
    },
    {
     "data": {
      "text/html": [],
      "text/plain": [
       "<IPython.core.display.HTML object>"
      ]
     },
     "metadata": {},
     "output_type": "display_data"
    },
    {
     "data": {
      "text/html": [],
      "text/plain": [
       "<IPython.core.display.HTML object>"
      ]
     },
     "metadata": {},
     "output_type": "display_data"
    },
    {
     "data": {
      "text/html": [],
      "text/plain": [
       "<IPython.core.display.HTML object>"
      ]
     },
     "metadata": {},
     "output_type": "display_data"
    },
    {
     "data": {
      "text/html": [],
      "text/plain": [
       "<IPython.core.display.HTML object>"
      ]
     },
     "metadata": {},
     "output_type": "display_data"
    },
    {
     "data": {
      "text/html": [],
      "text/plain": [
       "<IPython.core.display.HTML object>"
      ]
     },
     "metadata": {},
     "output_type": "display_data"
    },
    {
     "data": {
      "text/html": [],
      "text/plain": [
       "<IPython.core.display.HTML object>"
      ]
     },
     "metadata": {},
     "output_type": "display_data"
    },
    {
     "data": {
      "text/html": [],
      "text/plain": [
       "<IPython.core.display.HTML object>"
      ]
     },
     "metadata": {},
     "output_type": "display_data"
    },
    {
     "data": {
      "text/html": [],
      "text/plain": [
       "<IPython.core.display.HTML object>"
      ]
     },
     "metadata": {},
     "output_type": "display_data"
    },
    {
     "data": {
      "text/html": [],
      "text/plain": [
       "<IPython.core.display.HTML object>"
      ]
     },
     "metadata": {},
     "output_type": "display_data"
    },
    {
     "data": {
      "text/html": [],
      "text/plain": [
       "<IPython.core.display.HTML object>"
      ]
     },
     "metadata": {},
     "output_type": "display_data"
    },
    {
     "data": {
      "text/html": [],
      "text/plain": [
       "<IPython.core.display.HTML object>"
      ]
     },
     "metadata": {},
     "output_type": "display_data"
    },
    {
     "data": {
      "text/html": [],
      "text/plain": [
       "<IPython.core.display.HTML object>"
      ]
     },
     "metadata": {},
     "output_type": "display_data"
    },
    {
     "data": {
      "text/html": [],
      "text/plain": [
       "<IPython.core.display.HTML object>"
      ]
     },
     "metadata": {},
     "output_type": "display_data"
    },
    {
     "data": {
      "text/html": [],
      "text/plain": [
       "<IPython.core.display.HTML object>"
      ]
     },
     "metadata": {},
     "output_type": "display_data"
    },
    {
     "data": {
      "text/html": [],
      "text/plain": [
       "<IPython.core.display.HTML object>"
      ]
     },
     "metadata": {},
     "output_type": "display_data"
    },
    {
     "data": {
      "text/html": [],
      "text/plain": [
       "<IPython.core.display.HTML object>"
      ]
     },
     "metadata": {},
     "output_type": "display_data"
    },
    {
     "data": {
      "text/html": [],
      "text/plain": [
       "<IPython.core.display.HTML object>"
      ]
     },
     "metadata": {},
     "output_type": "display_data"
    },
    {
     "data": {
      "text/html": [],
      "text/plain": [
       "<IPython.core.display.HTML object>"
      ]
     },
     "metadata": {},
     "output_type": "display_data"
    },
    {
     "data": {
      "text/html": [],
      "text/plain": [
       "<IPython.core.display.HTML object>"
      ]
     },
     "metadata": {},
     "output_type": "display_data"
    },
    {
     "data": {
      "text/html": [],
      "text/plain": [
       "<IPython.core.display.HTML object>"
      ]
     },
     "metadata": {},
     "output_type": "display_data"
    },
    {
     "data": {
      "text/html": [],
      "text/plain": [
       "<IPython.core.display.HTML object>"
      ]
     },
     "metadata": {},
     "output_type": "display_data"
    },
    {
     "data": {
      "text/html": [],
      "text/plain": [
       "<IPython.core.display.HTML object>"
      ]
     },
     "metadata": {},
     "output_type": "display_data"
    },
    {
     "data": {
      "text/html": [],
      "text/plain": [
       "<IPython.core.display.HTML object>"
      ]
     },
     "metadata": {},
     "output_type": "display_data"
    },
    {
     "data": {
      "text/html": [],
      "text/plain": [
       "<IPython.core.display.HTML object>"
      ]
     },
     "metadata": {},
     "output_type": "display_data"
    },
    {
     "data": {
      "text/html": [],
      "text/plain": [
       "<IPython.core.display.HTML object>"
      ]
     },
     "metadata": {},
     "output_type": "display_data"
    },
    {
     "data": {
      "text/html": [],
      "text/plain": [
       "<IPython.core.display.HTML object>"
      ]
     },
     "metadata": {},
     "output_type": "display_data"
    },
    {
     "data": {
      "text/html": [],
      "text/plain": [
       "<IPython.core.display.HTML object>"
      ]
     },
     "metadata": {},
     "output_type": "display_data"
    },
    {
     "data": {
      "text/html": [],
      "text/plain": [
       "<IPython.core.display.HTML object>"
      ]
     },
     "metadata": {},
     "output_type": "display_data"
    },
    {
     "data": {
      "text/html": [],
      "text/plain": [
       "<IPython.core.display.HTML object>"
      ]
     },
     "metadata": {},
     "output_type": "display_data"
    },
    {
     "data": {
      "text/html": [],
      "text/plain": [
       "<IPython.core.display.HTML object>"
      ]
     },
     "metadata": {},
     "output_type": "display_data"
    },
    {
     "data": {
      "text/html": [],
      "text/plain": [
       "<IPython.core.display.HTML object>"
      ]
     },
     "metadata": {},
     "output_type": "display_data"
    },
    {
     "data": {
      "text/html": [],
      "text/plain": [
       "<IPython.core.display.HTML object>"
      ]
     },
     "metadata": {},
     "output_type": "display_data"
    },
    {
     "data": {
      "text/html": [],
      "text/plain": [
       "<IPython.core.display.HTML object>"
      ]
     },
     "metadata": {},
     "output_type": "display_data"
    },
    {
     "data": {
      "text/html": [],
      "text/plain": [
       "<IPython.core.display.HTML object>"
      ]
     },
     "metadata": {},
     "output_type": "display_data"
    },
    {
     "data": {
      "text/html": [],
      "text/plain": [
       "<IPython.core.display.HTML object>"
      ]
     },
     "metadata": {},
     "output_type": "display_data"
    },
    {
     "data": {
      "text/html": [],
      "text/plain": [
       "<IPython.core.display.HTML object>"
      ]
     },
     "metadata": {},
     "output_type": "display_data"
    },
    {
     "data": {
      "text/html": [],
      "text/plain": [
       "<IPython.core.display.HTML object>"
      ]
     },
     "metadata": {},
     "output_type": "display_data"
    },
    {
     "data": {
      "text/html": [],
      "text/plain": [
       "<IPython.core.display.HTML object>"
      ]
     },
     "metadata": {},
     "output_type": "display_data"
    },
    {
     "data": {
      "text/html": [],
      "text/plain": [
       "<IPython.core.display.HTML object>"
      ]
     },
     "metadata": {},
     "output_type": "display_data"
    },
    {
     "data": {
      "text/html": [],
      "text/plain": [
       "<IPython.core.display.HTML object>"
      ]
     },
     "metadata": {},
     "output_type": "display_data"
    },
    {
     "data": {
      "text/html": [],
      "text/plain": [
       "<IPython.core.display.HTML object>"
      ]
     },
     "metadata": {},
     "output_type": "display_data"
    },
    {
     "data": {
      "text/html": [],
      "text/plain": [
       "<IPython.core.display.HTML object>"
      ]
     },
     "metadata": {},
     "output_type": "display_data"
    },
    {
     "data": {
      "text/html": [],
      "text/plain": [
       "<IPython.core.display.HTML object>"
      ]
     },
     "metadata": {},
     "output_type": "display_data"
    },
    {
     "data": {
      "text/html": [],
      "text/plain": [
       "<IPython.core.display.HTML object>"
      ]
     },
     "metadata": {},
     "output_type": "display_data"
    },
    {
     "data": {
      "text/html": [],
      "text/plain": [
       "<IPython.core.display.HTML object>"
      ]
     },
     "metadata": {},
     "output_type": "display_data"
    },
    {
     "data": {
      "text/html": [],
      "text/plain": [
       "<IPython.core.display.HTML object>"
      ]
     },
     "metadata": {},
     "output_type": "display_data"
    },
    {
     "data": {
      "text/html": [],
      "text/plain": [
       "<IPython.core.display.HTML object>"
      ]
     },
     "metadata": {},
     "output_type": "display_data"
    },
    {
     "data": {
      "text/html": [],
      "text/plain": [
       "<IPython.core.display.HTML object>"
      ]
     },
     "metadata": {},
     "output_type": "display_data"
    },
    {
     "data": {
      "text/html": [],
      "text/plain": [
       "<IPython.core.display.HTML object>"
      ]
     },
     "metadata": {},
     "output_type": "display_data"
    },
    {
     "data": {
      "text/html": [],
      "text/plain": [
       "<IPython.core.display.HTML object>"
      ]
     },
     "metadata": {},
     "output_type": "display_data"
    },
    {
     "data": {
      "text/html": [],
      "text/plain": [
       "<IPython.core.display.HTML object>"
      ]
     },
     "metadata": {},
     "output_type": "display_data"
    },
    {
     "data": {
      "text/html": [],
      "text/plain": [
       "<IPython.core.display.HTML object>"
      ]
     },
     "metadata": {},
     "output_type": "display_data"
    },
    {
     "data": {
      "text/html": [],
      "text/plain": [
       "<IPython.core.display.HTML object>"
      ]
     },
     "metadata": {},
     "output_type": "display_data"
    },
    {
     "data": {
      "text/html": [],
      "text/plain": [
       "<IPython.core.display.HTML object>"
      ]
     },
     "metadata": {},
     "output_type": "display_data"
    },
    {
     "name": "stdout",
     "output_type": "stream",
     "text": [
      "               datetime  prediction_label\n",
      "0   2025-01-28 00:00:00         17.528438\n",
      "1   2025-01-28 01:00:00         17.717172\n",
      "2   2025-01-28 02:00:00         18.687602\n",
      "3   2025-01-28 03:00:00         18.808969\n",
      "4   2025-01-28 04:00:00         18.512258\n",
      "..                  ...               ...\n",
      "163 2025-02-03 19:00:00         16.687453\n",
      "164 2025-02-03 20:00:00         17.879172\n",
      "165 2025-02-03 21:00:00         20.349476\n",
      "166 2025-02-03 22:00:00         14.937534\n",
      "167 2025-02-03 23:00:00         15.160081\n",
      "\n",
      "[168 rows x 2 columns]\n",
      "บันทึกผลลัพธ์การพยากรณ์สำเร็จ!\n"
     ]
    }
   ],
   "source": [
    "import pandas as pd\n",
    "from pycaret.regression import *\n",
    "from datetime import timedelta\n",
    "import numpy as np\n",
    "\n",
    "# โหลดไฟล์ CSV\n",
    "file_path = \"D:\\Term_Project\\pm_2.5\\cleaned_data (2)-7days.csv\"\n",
    "df = pd.read_csv(file_path)\n",
    "\n",
    "# แปลง datetime เป็นชนิด datetime\n",
    "df[\"datetime\"] = pd.to_datetime(df[\"datetime\"], dayfirst=True, errors=\"coerce\")\n",
    "\n",
    "# แปลง 'pm_2_5' เป็นตัวเลข\n",
    "df[\"pm_2_5\"] = pd.to_numeric(df[\"pm_2_5\"], errors=\"coerce\")\n",
    "\n",
    "# สร้างสำเนา DataFrame เพื่อใช้ทำความสะอาดข้อมูล\n",
    "df_cleaned = df.copy()\n",
    "\n",
    "# ฟังก์ชันสำหรับจัดการ outlier และ NaN ด้วย Hybrid Imputation\n",
    "def hybrid_imputation(series):\n",
    "    # คำนวณ IQR\n",
    "    Q1 = series.quantile(0.25)\n",
    "    Q3 = series.quantile(0.75)\n",
    "    IQR = Q3 - Q1\n",
    "\n",
    "    # กำหนดขอบเขตของ outlier\n",
    "    lower_bound = Q1 - 1.5 * IQR\n",
    "    upper_bound = Q3 + 1.5 * IQR\n",
    "\n",
    "    # แทนที่ outlier ด้วยค่ามัธยฐาน\n",
    "    median_value = series.median()\n",
    "    series = series.where((series >= lower_bound) & (series <= upper_bound), median_value)\n",
    "\n",
    "    # เติมค่าที่หายไปด้วยค่ามัธยฐาน\n",
    "    series = series.fillna(median_value)\n",
    "\n",
    "    return series\n",
    "\n",
    "# ใช้ Hybrid Imputation สำหรับคอลัมน์ 'pm_2_5'\n",
    "df_cleaned[\"pm_2_5\"] = hybrid_imputation(df_cleaned[\"pm_2_5\"])\n",
    "\n",
    "# สร้างฟีเจอร์ย้อนหลัง\n",
    "for lag in [1, 3, 6, 24]:\n",
    "    df_cleaned[f\"pm_2_5_lag_{lag}\"] = df_cleaned[\"pm_2_5\"].shift(lag)\n",
    "\n",
    "# ตั้งค่า PyCaret และแบ่ง train 80% test 20%\n",
    "exp = setup(df_cleaned, target=\"pm_2_5\", train_size=0.8, session_id=42, normalize=True, feature_selection=True)\n",
    "\n",
    "# ปรับแต่งโมเดล Random Forest Regressor\n",
    "model = create_model(\"rf\")\n",
    "\n",
    "# ---- สร้างข้อมูลสำหรับพยากรณ์ล่วงหน้า 7 วัน (168 ชั่วโมง) ----\n",
    "last_date = df_cleaned[\"datetime\"].max()\n",
    "future_dates = [last_date + timedelta(hours=i) for i in range(1, 169)]\n",
    "\n",
    "# ใช้ค่าเฉลี่ยล่าสุดของความชื้นและอุณหภูมิ\n",
    "latest_humidity = df_cleaned[\"humidity\"].iloc[-24:].mean()\n",
    "latest_temperature = df_cleaned[\"temperature\"].iloc[-24:].mean()\n",
    "latest_pm25 = df_cleaned[\"pm_2_5\"].iloc[-1]\n",
    "\n",
    "future_data = pd.DataFrame({\n",
    "    \"datetime\": future_dates,\n",
    "    \"humidity\": [latest_humidity] * len(future_dates),\n",
    "    \"temperature\": [latest_temperature] * len(future_dates),\n",
    "    \"pm_2_5_lag_1\": [latest_pm25] * len(future_dates),\n",
    "    \"pm_2_5_lag_3\": [latest_pm25] * len(future_dates),\n",
    "    \"pm_2_5_lag_6\": [latest_pm25] * len(future_dates),\n",
    "    \"pm_2_5_lag_24\": [latest_pm25] * len(future_dates)\n",
    "})\n",
    "\n",
    "# เพิ่มฟีเจอร์เชิงเวลา\n",
    "future_data[\"hour\"] = future_data[\"datetime\"].dt.hour\n",
    "future_data[\"dayofweek\"] = future_data[\"datetime\"].dt.dayofweek\n",
    "\n",
    "# Recursive forecasting\n",
    "for i in range(len(future_data)):\n",
    "    pred = predict_model(model, data=future_data.iloc[i:i+1])\n",
    "    predicted_value = pred.iloc[0][\"prediction_label\"]\n",
    "    if i + 1 < len(future_data):\n",
    "        future_data.at[i + 1, \"pm_2_5_lag_1\"] = predicted_value\n",
    "    if i + 3 < len(future_data):\n",
    "        future_data.at[i + 3, \"pm_2_5_lag_3\"] = predicted_value\n",
    "    if i + 6 < len(future_data):\n",
    "        future_data.at[i + 6, \"pm_2_5_lag_6\"] = predicted_value\n",
    "    if i + 24 < len(future_data):\n",
    "        future_data.at[i + 24, \"pm_2_5_lag_24\"] = predicted_value\n",
    "\n",
    "# ทำนายค่า PM 2.5\n",
    "predictions = predict_model(model, data=future_data)\n",
    "\n",
    "# หาชื่อคอลัมน์การทำนายที่ถูกต้อง\n",
    "prediction_column = [col for col in predictions.columns if \"predict\" in col.lower()]\n",
    "if prediction_column:\n",
    "    prediction_column = prediction_column[0]\n",
    "    print(predictions[[\"datetime\", prediction_column]])\n",
    "else:\n",
    "    print(\"ไม่พบคอลัมน์การทำนาย ลองแสดงผลทั้งหมด:\")\n",
    "    print(predictions.head())\n",
    "\n",
    "# บันทึกผลลัพธ์เป็นไฟล์ CSV\n",
    "predictions.to_csv(\"D:/Term_Project/pm_2.5/predicted_pm25.csv\", index=False)\n",
    "print(\"บันทึกผลลัพธ์การพยากรณ์สำเร็จ!\")\n"
   ]
  },
  {
   "cell_type": "code",
   "execution_count": 10,
   "metadata": {},
   "outputs": [
    {
     "name": "stdout",
     "output_type": "stream",
     "text": [
      "Test MSE: 15.664501143844321\n",
      "Test R²: 0.7801560915640265\n",
      "Test MAPE: 0.2853729382207431\n"
     ]
    }
   ],
   "source": [
    "from sklearn.model_selection import train_test_split\n",
    "from sklearn.ensemble import RandomForestRegressor\n",
    "from sklearn.metrics import mean_squared_error, r2_score, mean_absolute_percentage_error\n",
    "\n",
    "# แบ่งข้อมูลเป็นชุดฝึกและชุดทดสอบ\n",
    "X = df_cleaned.drop(columns=[\"pm_2_5\", \"datetime\"])  # ฟีเจอร์\n",
    "y = df_cleaned[\"pm_2_5\"]  # เป้าหมาย (target)\n",
    "\n",
    "X_train, X_test, y_train, y_test = train_test_split(X, y, test_size=0.2, random_state=42)\n",
    "\n",
    "# สร้างและฝึกโมเดล\n",
    "model = RandomForestRegressor(random_state=42)\n",
    "model.fit(X_train, y_train)\n",
    "\n",
    "# ทำนายค่าบนชุดฝึกและชุดทดสอบ\n",
    "y_train_pred = model.predict(X_train)\n",
    "y_test_pred = model.predict(X_test)\n",
    "\n",
    "# ประเมินประสิทธิภาพด้วย MSE, R², และ MAPE\n",
    "test_mse = mean_squared_error(y_test, y_test_pred)\n",
    "\n",
    "test_r2 = r2_score(y_test, y_test_pred)\n",
    "\n",
    "test_mape = mean_absolute_percentage_error(y_test, y_test_pred)\n",
    "\n",
    "# แสดงผลลัพธ์\n",
    "print(f\"Test MSE: {test_mse}\")\n",
    "print(f\"Test R²: {test_r2}\")\n",
    "print(f\"Test MAPE: {test_mape}\")\n"
   ]
  },
  {
   "cell_type": "markdown",
   "metadata": {},
   "source": [
    "TRAIN (EXTRA TREE)"
   ]
  },
  {
   "cell_type": "code",
   "execution_count": 11,
   "metadata": {},
   "outputs": [
    {
     "data": {
      "text/html": [
       "<style type=\"text/css\">\n",
       "#T_13978_row10_col1, #T_13978_row14_col1, #T_13978_row16_col1 {\n",
       "  background-color: lightgreen;\n",
       "}\n",
       "</style>\n",
       "<table id=\"T_13978\">\n",
       "  <thead>\n",
       "    <tr>\n",
       "      <th class=\"blank level0\" >&nbsp;</th>\n",
       "      <th id=\"T_13978_level0_col0\" class=\"col_heading level0 col0\" >Description</th>\n",
       "      <th id=\"T_13978_level0_col1\" class=\"col_heading level0 col1\" >Value</th>\n",
       "    </tr>\n",
       "  </thead>\n",
       "  <tbody>\n",
       "    <tr>\n",
       "      <th id=\"T_13978_level0_row0\" class=\"row_heading level0 row0\" >0</th>\n",
       "      <td id=\"T_13978_row0_col0\" class=\"data row0 col0\" >Session id</td>\n",
       "      <td id=\"T_13978_row0_col1\" class=\"data row0 col1\" >42</td>\n",
       "    </tr>\n",
       "    <tr>\n",
       "      <th id=\"T_13978_level0_row1\" class=\"row_heading level0 row1\" >1</th>\n",
       "      <td id=\"T_13978_row1_col0\" class=\"data row1 col0\" >Target</td>\n",
       "      <td id=\"T_13978_row1_col1\" class=\"data row1 col1\" >pm_2_5</td>\n",
       "    </tr>\n",
       "    <tr>\n",
       "      <th id=\"T_13978_level0_row2\" class=\"row_heading level0 row2\" >2</th>\n",
       "      <td id=\"T_13978_row2_col0\" class=\"data row2 col0\" >Target type</td>\n",
       "      <td id=\"T_13978_row2_col1\" class=\"data row2 col1\" >Regression</td>\n",
       "    </tr>\n",
       "    <tr>\n",
       "      <th id=\"T_13978_level0_row3\" class=\"row_heading level0 row3\" >3</th>\n",
       "      <td id=\"T_13978_row3_col0\" class=\"data row3 col0\" >Original data shape</td>\n",
       "      <td id=\"T_13978_row3_col1\" class=\"data row3 col1\" >(34465, 8)</td>\n",
       "    </tr>\n",
       "    <tr>\n",
       "      <th id=\"T_13978_level0_row4\" class=\"row_heading level0 row4\" >4</th>\n",
       "      <td id=\"T_13978_row4_col0\" class=\"data row4 col0\" >Transformed data shape</td>\n",
       "      <td id=\"T_13978_row4_col1\" class=\"data row4 col1\" >(34465, 2)</td>\n",
       "    </tr>\n",
       "    <tr>\n",
       "      <th id=\"T_13978_level0_row5\" class=\"row_heading level0 row5\" >5</th>\n",
       "      <td id=\"T_13978_row5_col0\" class=\"data row5 col0\" >Transformed train set shape</td>\n",
       "      <td id=\"T_13978_row5_col1\" class=\"data row5 col1\" >(27572, 2)</td>\n",
       "    </tr>\n",
       "    <tr>\n",
       "      <th id=\"T_13978_level0_row6\" class=\"row_heading level0 row6\" >6</th>\n",
       "      <td id=\"T_13978_row6_col0\" class=\"data row6 col0\" >Transformed test set shape</td>\n",
       "      <td id=\"T_13978_row6_col1\" class=\"data row6 col1\" >(6893, 2)</td>\n",
       "    </tr>\n",
       "    <tr>\n",
       "      <th id=\"T_13978_level0_row7\" class=\"row_heading level0 row7\" >7</th>\n",
       "      <td id=\"T_13978_row7_col0\" class=\"data row7 col0\" >Numeric features</td>\n",
       "      <td id=\"T_13978_row7_col1\" class=\"data row7 col1\" >6</td>\n",
       "    </tr>\n",
       "    <tr>\n",
       "      <th id=\"T_13978_level0_row8\" class=\"row_heading level0 row8\" >8</th>\n",
       "      <td id=\"T_13978_row8_col0\" class=\"data row8 col0\" >Date features</td>\n",
       "      <td id=\"T_13978_row8_col1\" class=\"data row8 col1\" >1</td>\n",
       "    </tr>\n",
       "    <tr>\n",
       "      <th id=\"T_13978_level0_row9\" class=\"row_heading level0 row9\" >9</th>\n",
       "      <td id=\"T_13978_row9_col0\" class=\"data row9 col0\" >Rows with missing values</td>\n",
       "      <td id=\"T_13978_row9_col1\" class=\"data row9 col1\" >0.1%</td>\n",
       "    </tr>\n",
       "    <tr>\n",
       "      <th id=\"T_13978_level0_row10\" class=\"row_heading level0 row10\" >10</th>\n",
       "      <td id=\"T_13978_row10_col0\" class=\"data row10 col0\" >Preprocess</td>\n",
       "      <td id=\"T_13978_row10_col1\" class=\"data row10 col1\" >True</td>\n",
       "    </tr>\n",
       "    <tr>\n",
       "      <th id=\"T_13978_level0_row11\" class=\"row_heading level0 row11\" >11</th>\n",
       "      <td id=\"T_13978_row11_col0\" class=\"data row11 col0\" >Imputation type</td>\n",
       "      <td id=\"T_13978_row11_col1\" class=\"data row11 col1\" >simple</td>\n",
       "    </tr>\n",
       "    <tr>\n",
       "      <th id=\"T_13978_level0_row12\" class=\"row_heading level0 row12\" >12</th>\n",
       "      <td id=\"T_13978_row12_col0\" class=\"data row12 col0\" >Numeric imputation</td>\n",
       "      <td id=\"T_13978_row12_col1\" class=\"data row12 col1\" >mean</td>\n",
       "    </tr>\n",
       "    <tr>\n",
       "      <th id=\"T_13978_level0_row13\" class=\"row_heading level0 row13\" >13</th>\n",
       "      <td id=\"T_13978_row13_col0\" class=\"data row13 col0\" >Categorical imputation</td>\n",
       "      <td id=\"T_13978_row13_col1\" class=\"data row13 col1\" >mode</td>\n",
       "    </tr>\n",
       "    <tr>\n",
       "      <th id=\"T_13978_level0_row14\" class=\"row_heading level0 row14\" >14</th>\n",
       "      <td id=\"T_13978_row14_col0\" class=\"data row14 col0\" >Normalize</td>\n",
       "      <td id=\"T_13978_row14_col1\" class=\"data row14 col1\" >True</td>\n",
       "    </tr>\n",
       "    <tr>\n",
       "      <th id=\"T_13978_level0_row15\" class=\"row_heading level0 row15\" >15</th>\n",
       "      <td id=\"T_13978_row15_col0\" class=\"data row15 col0\" >Normalize method</td>\n",
       "      <td id=\"T_13978_row15_col1\" class=\"data row15 col1\" >zscore</td>\n",
       "    </tr>\n",
       "    <tr>\n",
       "      <th id=\"T_13978_level0_row16\" class=\"row_heading level0 row16\" >16</th>\n",
       "      <td id=\"T_13978_row16_col0\" class=\"data row16 col0\" >Feature selection</td>\n",
       "      <td id=\"T_13978_row16_col1\" class=\"data row16 col1\" >True</td>\n",
       "    </tr>\n",
       "    <tr>\n",
       "      <th id=\"T_13978_level0_row17\" class=\"row_heading level0 row17\" >17</th>\n",
       "      <td id=\"T_13978_row17_col0\" class=\"data row17 col0\" >Feature selection method</td>\n",
       "      <td id=\"T_13978_row17_col1\" class=\"data row17 col1\" >classic</td>\n",
       "    </tr>\n",
       "    <tr>\n",
       "      <th id=\"T_13978_level0_row18\" class=\"row_heading level0 row18\" >18</th>\n",
       "      <td id=\"T_13978_row18_col0\" class=\"data row18 col0\" >Feature selection estimator</td>\n",
       "      <td id=\"T_13978_row18_col1\" class=\"data row18 col1\" >lightgbm</td>\n",
       "    </tr>\n",
       "    <tr>\n",
       "      <th id=\"T_13978_level0_row19\" class=\"row_heading level0 row19\" >19</th>\n",
       "      <td id=\"T_13978_row19_col0\" class=\"data row19 col0\" >Number of features selected</td>\n",
       "      <td id=\"T_13978_row19_col1\" class=\"data row19 col1\" >0.200000</td>\n",
       "    </tr>\n",
       "    <tr>\n",
       "      <th id=\"T_13978_level0_row20\" class=\"row_heading level0 row20\" >20</th>\n",
       "      <td id=\"T_13978_row20_col0\" class=\"data row20 col0\" >Fold Generator</td>\n",
       "      <td id=\"T_13978_row20_col1\" class=\"data row20 col1\" >KFold</td>\n",
       "    </tr>\n",
       "    <tr>\n",
       "      <th id=\"T_13978_level0_row21\" class=\"row_heading level0 row21\" >21</th>\n",
       "      <td id=\"T_13978_row21_col0\" class=\"data row21 col0\" >Fold Number</td>\n",
       "      <td id=\"T_13978_row21_col1\" class=\"data row21 col1\" >10</td>\n",
       "    </tr>\n",
       "    <tr>\n",
       "      <th id=\"T_13978_level0_row22\" class=\"row_heading level0 row22\" >22</th>\n",
       "      <td id=\"T_13978_row22_col0\" class=\"data row22 col0\" >CPU Jobs</td>\n",
       "      <td id=\"T_13978_row22_col1\" class=\"data row22 col1\" >-1</td>\n",
       "    </tr>\n",
       "    <tr>\n",
       "      <th id=\"T_13978_level0_row23\" class=\"row_heading level0 row23\" >23</th>\n",
       "      <td id=\"T_13978_row23_col0\" class=\"data row23 col0\" >Use GPU</td>\n",
       "      <td id=\"T_13978_row23_col1\" class=\"data row23 col1\" >False</td>\n",
       "    </tr>\n",
       "    <tr>\n",
       "      <th id=\"T_13978_level0_row24\" class=\"row_heading level0 row24\" >24</th>\n",
       "      <td id=\"T_13978_row24_col0\" class=\"data row24 col0\" >Log Experiment</td>\n",
       "      <td id=\"T_13978_row24_col1\" class=\"data row24 col1\" >False</td>\n",
       "    </tr>\n",
       "    <tr>\n",
       "      <th id=\"T_13978_level0_row25\" class=\"row_heading level0 row25\" >25</th>\n",
       "      <td id=\"T_13978_row25_col0\" class=\"data row25 col0\" >Experiment Name</td>\n",
       "      <td id=\"T_13978_row25_col1\" class=\"data row25 col1\" >reg-default-name</td>\n",
       "    </tr>\n",
       "    <tr>\n",
       "      <th id=\"T_13978_level0_row26\" class=\"row_heading level0 row26\" >26</th>\n",
       "      <td id=\"T_13978_row26_col0\" class=\"data row26 col0\" >USI</td>\n",
       "      <td id=\"T_13978_row26_col1\" class=\"data row26 col1\" >f5c6</td>\n",
       "    </tr>\n",
       "  </tbody>\n",
       "</table>\n"
      ],
      "text/plain": [
       "<pandas.io.formats.style.Styler at 0x16cb48706d0>"
      ]
     },
     "metadata": {},
     "output_type": "display_data"
    },
    {
     "data": {
      "text/html": [],
      "text/plain": [
       "<IPython.core.display.HTML object>"
      ]
     },
     "metadata": {},
     "output_type": "display_data"
    },
    {
     "data": {
      "text/html": [
       "<style type=\"text/css\">\n",
       "#T_74e3b_row10_col0, #T_74e3b_row10_col1, #T_74e3b_row10_col2, #T_74e3b_row10_col3, #T_74e3b_row10_col4, #T_74e3b_row10_col5 {\n",
       "  background: yellow;\n",
       "}\n",
       "</style>\n",
       "<table id=\"T_74e3b\">\n",
       "  <thead>\n",
       "    <tr>\n",
       "      <th class=\"blank level0\" >&nbsp;</th>\n",
       "      <th id=\"T_74e3b_level0_col0\" class=\"col_heading level0 col0\" >MAE</th>\n",
       "      <th id=\"T_74e3b_level0_col1\" class=\"col_heading level0 col1\" >MSE</th>\n",
       "      <th id=\"T_74e3b_level0_col2\" class=\"col_heading level0 col2\" >RMSE</th>\n",
       "      <th id=\"T_74e3b_level0_col3\" class=\"col_heading level0 col3\" >R2</th>\n",
       "      <th id=\"T_74e3b_level0_col4\" class=\"col_heading level0 col4\" >RMSLE</th>\n",
       "      <th id=\"T_74e3b_level0_col5\" class=\"col_heading level0 col5\" >MAPE</th>\n",
       "    </tr>\n",
       "    <tr>\n",
       "      <th class=\"index_name level0\" >Fold</th>\n",
       "      <th class=\"blank col0\" >&nbsp;</th>\n",
       "      <th class=\"blank col1\" >&nbsp;</th>\n",
       "      <th class=\"blank col2\" >&nbsp;</th>\n",
       "      <th class=\"blank col3\" >&nbsp;</th>\n",
       "      <th class=\"blank col4\" >&nbsp;</th>\n",
       "      <th class=\"blank col5\" >&nbsp;</th>\n",
       "    </tr>\n",
       "  </thead>\n",
       "  <tbody>\n",
       "    <tr>\n",
       "      <th id=\"T_74e3b_level0_row0\" class=\"row_heading level0 row0\" >0</th>\n",
       "      <td id=\"T_74e3b_row0_col0\" class=\"data row0 col0\" >3.0830</td>\n",
       "      <td id=\"T_74e3b_row0_col1\" class=\"data row0 col1\" >23.1413</td>\n",
       "      <td id=\"T_74e3b_row0_col2\" class=\"data row0 col2\" >4.8105</td>\n",
       "      <td id=\"T_74e3b_row0_col3\" class=\"data row0 col3\" >0.6735</td>\n",
       "      <td id=\"T_74e3b_row0_col4\" class=\"data row0 col4\" >0.3411</td>\n",
       "      <td id=\"T_74e3b_row0_col5\" class=\"data row0 col5\" >0.3266</td>\n",
       "    </tr>\n",
       "    <tr>\n",
       "      <th id=\"T_74e3b_level0_row1\" class=\"row_heading level0 row1\" >1</th>\n",
       "      <td id=\"T_74e3b_row1_col0\" class=\"data row1 col0\" >3.1334</td>\n",
       "      <td id=\"T_74e3b_row1_col1\" class=\"data row1 col1\" >24.7057</td>\n",
       "      <td id=\"T_74e3b_row1_col2\" class=\"data row1 col2\" >4.9705</td>\n",
       "      <td id=\"T_74e3b_row1_col3\" class=\"data row1 col3\" >0.6789</td>\n",
       "      <td id=\"T_74e3b_row1_col4\" class=\"data row1 col4\" >0.3398</td>\n",
       "      <td id=\"T_74e3b_row1_col5\" class=\"data row1 col5\" >0.3249</td>\n",
       "    </tr>\n",
       "    <tr>\n",
       "      <th id=\"T_74e3b_level0_row2\" class=\"row_heading level0 row2\" >2</th>\n",
       "      <td id=\"T_74e3b_row2_col0\" class=\"data row2 col0\" >3.0178</td>\n",
       "      <td id=\"T_74e3b_row2_col1\" class=\"data row2 col1\" >22.5155</td>\n",
       "      <td id=\"T_74e3b_row2_col2\" class=\"data row2 col2\" >4.7451</td>\n",
       "      <td id=\"T_74e3b_row2_col3\" class=\"data row2 col3\" >0.6885</td>\n",
       "      <td id=\"T_74e3b_row2_col4\" class=\"data row2 col4\" >0.3327</td>\n",
       "      <td id=\"T_74e3b_row2_col5\" class=\"data row2 col5\" >0.3159</td>\n",
       "    </tr>\n",
       "    <tr>\n",
       "      <th id=\"T_74e3b_level0_row3\" class=\"row_heading level0 row3\" >3</th>\n",
       "      <td id=\"T_74e3b_row3_col0\" class=\"data row3 col0\" >3.1188</td>\n",
       "      <td id=\"T_74e3b_row3_col1\" class=\"data row3 col1\" >23.9389</td>\n",
       "      <td id=\"T_74e3b_row3_col2\" class=\"data row3 col2\" >4.8927</td>\n",
       "      <td id=\"T_74e3b_row3_col3\" class=\"data row3 col3\" >0.6546</td>\n",
       "      <td id=\"T_74e3b_row3_col4\" class=\"data row3 col4\" >0.3360</td>\n",
       "      <td id=\"T_74e3b_row3_col5\" class=\"data row3 col5\" >0.3736</td>\n",
       "    </tr>\n",
       "    <tr>\n",
       "      <th id=\"T_74e3b_level0_row4\" class=\"row_heading level0 row4\" >4</th>\n",
       "      <td id=\"T_74e3b_row4_col0\" class=\"data row4 col0\" >3.0401</td>\n",
       "      <td id=\"T_74e3b_row4_col1\" class=\"data row4 col1\" >22.2552</td>\n",
       "      <td id=\"T_74e3b_row4_col2\" class=\"data row4 col2\" >4.7175</td>\n",
       "      <td id=\"T_74e3b_row4_col3\" class=\"data row4 col3\" >0.6997</td>\n",
       "      <td id=\"T_74e3b_row4_col4\" class=\"data row4 col4\" >0.3343</td>\n",
       "      <td id=\"T_74e3b_row4_col5\" class=\"data row4 col5\" >0.3209</td>\n",
       "    </tr>\n",
       "    <tr>\n",
       "      <th id=\"T_74e3b_level0_row5\" class=\"row_heading level0 row5\" >5</th>\n",
       "      <td id=\"T_74e3b_row5_col0\" class=\"data row5 col0\" >3.1081</td>\n",
       "      <td id=\"T_74e3b_row5_col1\" class=\"data row5 col1\" >22.3312</td>\n",
       "      <td id=\"T_74e3b_row5_col2\" class=\"data row5 col2\" >4.7256</td>\n",
       "      <td id=\"T_74e3b_row5_col3\" class=\"data row5 col3\" >0.6905</td>\n",
       "      <td id=\"T_74e3b_row5_col4\" class=\"data row5 col4\" >0.3302</td>\n",
       "      <td id=\"T_74e3b_row5_col5\" class=\"data row5 col5\" >0.3151</td>\n",
       "    </tr>\n",
       "    <tr>\n",
       "      <th id=\"T_74e3b_level0_row6\" class=\"row_heading level0 row6\" >6</th>\n",
       "      <td id=\"T_74e3b_row6_col0\" class=\"data row6 col0\" >3.1893</td>\n",
       "      <td id=\"T_74e3b_row6_col1\" class=\"data row6 col1\" >23.5600</td>\n",
       "      <td id=\"T_74e3b_row6_col2\" class=\"data row6 col2\" >4.8539</td>\n",
       "      <td id=\"T_74e3b_row6_col3\" class=\"data row6 col3\" >0.6744</td>\n",
       "      <td id=\"T_74e3b_row6_col4\" class=\"data row6 col4\" >0.3405</td>\n",
       "      <td id=\"T_74e3b_row6_col5\" class=\"data row6 col5\" >0.3332</td>\n",
       "    </tr>\n",
       "    <tr>\n",
       "      <th id=\"T_74e3b_level0_row7\" class=\"row_heading level0 row7\" >7</th>\n",
       "      <td id=\"T_74e3b_row7_col0\" class=\"data row7 col0\" >3.0579</td>\n",
       "      <td id=\"T_74e3b_row7_col1\" class=\"data row7 col1\" >22.5793</td>\n",
       "      <td id=\"T_74e3b_row7_col2\" class=\"data row7 col2\" >4.7518</td>\n",
       "      <td id=\"T_74e3b_row7_col3\" class=\"data row7 col3\" >0.6783</td>\n",
       "      <td id=\"T_74e3b_row7_col4\" class=\"data row7 col4\" >0.3430</td>\n",
       "      <td id=\"T_74e3b_row7_col5\" class=\"data row7 col5\" >0.3375</td>\n",
       "    </tr>\n",
       "    <tr>\n",
       "      <th id=\"T_74e3b_level0_row8\" class=\"row_heading level0 row8\" >8</th>\n",
       "      <td id=\"T_74e3b_row8_col0\" class=\"data row8 col0\" >3.0564</td>\n",
       "      <td id=\"T_74e3b_row8_col1\" class=\"data row8 col1\" >22.4708</td>\n",
       "      <td id=\"T_74e3b_row8_col2\" class=\"data row8 col2\" >4.7403</td>\n",
       "      <td id=\"T_74e3b_row8_col3\" class=\"data row8 col3\" >0.6940</td>\n",
       "      <td id=\"T_74e3b_row8_col4\" class=\"data row8 col4\" >0.3323</td>\n",
       "      <td id=\"T_74e3b_row8_col5\" class=\"data row8 col5\" >0.3656</td>\n",
       "    </tr>\n",
       "    <tr>\n",
       "      <th id=\"T_74e3b_level0_row9\" class=\"row_heading level0 row9\" >9</th>\n",
       "      <td id=\"T_74e3b_row9_col0\" class=\"data row9 col0\" >3.0405</td>\n",
       "      <td id=\"T_74e3b_row9_col1\" class=\"data row9 col1\" >22.0255</td>\n",
       "      <td id=\"T_74e3b_row9_col2\" class=\"data row9 col2\" >4.6931</td>\n",
       "      <td id=\"T_74e3b_row9_col3\" class=\"data row9 col3\" >0.6903</td>\n",
       "      <td id=\"T_74e3b_row9_col4\" class=\"data row9 col4\" >0.3340</td>\n",
       "      <td id=\"T_74e3b_row9_col5\" class=\"data row9 col5\" >0.3103</td>\n",
       "    </tr>\n",
       "    <tr>\n",
       "      <th id=\"T_74e3b_level0_row10\" class=\"row_heading level0 row10\" >Mean</th>\n",
       "      <td id=\"T_74e3b_row10_col0\" class=\"data row10 col0\" >3.0845</td>\n",
       "      <td id=\"T_74e3b_row10_col1\" class=\"data row10 col1\" >22.9523</td>\n",
       "      <td id=\"T_74e3b_row10_col2\" class=\"data row10 col2\" >4.7901</td>\n",
       "      <td id=\"T_74e3b_row10_col3\" class=\"data row10 col3\" >0.6823</td>\n",
       "      <td id=\"T_74e3b_row10_col4\" class=\"data row10 col4\" >0.3364</td>\n",
       "      <td id=\"T_74e3b_row10_col5\" class=\"data row10 col5\" >0.3324</td>\n",
       "    </tr>\n",
       "    <tr>\n",
       "      <th id=\"T_74e3b_level0_row11\" class=\"row_heading level0 row11\" >Std</th>\n",
       "      <td id=\"T_74e3b_row11_col0\" class=\"data row11 col0\" >0.0500</td>\n",
       "      <td id=\"T_74e3b_row11_col1\" class=\"data row11 col1\" >0.8213</td>\n",
       "      <td id=\"T_74e3b_row11_col2\" class=\"data row11 col2\" >0.0851</td>\n",
       "      <td id=\"T_74e3b_row11_col3\" class=\"data row11 col3\" >0.0124</td>\n",
       "      <td id=\"T_74e3b_row11_col4\" class=\"data row11 col4\" >0.0042</td>\n",
       "      <td id=\"T_74e3b_row11_col5\" class=\"data row11 col5\" >0.0203</td>\n",
       "    </tr>\n",
       "  </tbody>\n",
       "</table>\n"
      ],
      "text/plain": [
       "<pandas.io.formats.style.Styler at 0x16cc6812350>"
      ]
     },
     "metadata": {},
     "output_type": "display_data"
    },
    {
     "data": {
      "text/html": [],
      "text/plain": [
       "<IPython.core.display.HTML object>"
      ]
     },
     "metadata": {},
     "output_type": "display_data"
    },
    {
     "data": {
      "text/html": [],
      "text/plain": [
       "<IPython.core.display.HTML object>"
      ]
     },
     "metadata": {},
     "output_type": "display_data"
    },
    {
     "data": {
      "text/html": [],
      "text/plain": [
       "<IPython.core.display.HTML object>"
      ]
     },
     "metadata": {},
     "output_type": "display_data"
    },
    {
     "data": {
      "text/html": [],
      "text/plain": [
       "<IPython.core.display.HTML object>"
      ]
     },
     "metadata": {},
     "output_type": "display_data"
    },
    {
     "data": {
      "text/html": [],
      "text/plain": [
       "<IPython.core.display.HTML object>"
      ]
     },
     "metadata": {},
     "output_type": "display_data"
    },
    {
     "data": {
      "text/html": [],
      "text/plain": [
       "<IPython.core.display.HTML object>"
      ]
     },
     "metadata": {},
     "output_type": "display_data"
    },
    {
     "data": {
      "text/html": [],
      "text/plain": [
       "<IPython.core.display.HTML object>"
      ]
     },
     "metadata": {},
     "output_type": "display_data"
    },
    {
     "data": {
      "text/html": [],
      "text/plain": [
       "<IPython.core.display.HTML object>"
      ]
     },
     "metadata": {},
     "output_type": "display_data"
    },
    {
     "data": {
      "text/html": [],
      "text/plain": [
       "<IPython.core.display.HTML object>"
      ]
     },
     "metadata": {},
     "output_type": "display_data"
    },
    {
     "data": {
      "text/html": [],
      "text/plain": [
       "<IPython.core.display.HTML object>"
      ]
     },
     "metadata": {},
     "output_type": "display_data"
    },
    {
     "data": {
      "text/html": [],
      "text/plain": [
       "<IPython.core.display.HTML object>"
      ]
     },
     "metadata": {},
     "output_type": "display_data"
    },
    {
     "data": {
      "text/html": [],
      "text/plain": [
       "<IPython.core.display.HTML object>"
      ]
     },
     "metadata": {},
     "output_type": "display_data"
    },
    {
     "data": {
      "text/html": [],
      "text/plain": [
       "<IPython.core.display.HTML object>"
      ]
     },
     "metadata": {},
     "output_type": "display_data"
    },
    {
     "data": {
      "text/html": [],
      "text/plain": [
       "<IPython.core.display.HTML object>"
      ]
     },
     "metadata": {},
     "output_type": "display_data"
    },
    {
     "data": {
      "text/html": [],
      "text/plain": [
       "<IPython.core.display.HTML object>"
      ]
     },
     "metadata": {},
     "output_type": "display_data"
    },
    {
     "data": {
      "text/html": [],
      "text/plain": [
       "<IPython.core.display.HTML object>"
      ]
     },
     "metadata": {},
     "output_type": "display_data"
    },
    {
     "data": {
      "text/html": [],
      "text/plain": [
       "<IPython.core.display.HTML object>"
      ]
     },
     "metadata": {},
     "output_type": "display_data"
    },
    {
     "data": {
      "text/html": [],
      "text/plain": [
       "<IPython.core.display.HTML object>"
      ]
     },
     "metadata": {},
     "output_type": "display_data"
    },
    {
     "data": {
      "text/html": [],
      "text/plain": [
       "<IPython.core.display.HTML object>"
      ]
     },
     "metadata": {},
     "output_type": "display_data"
    },
    {
     "data": {
      "text/html": [],
      "text/plain": [
       "<IPython.core.display.HTML object>"
      ]
     },
     "metadata": {},
     "output_type": "display_data"
    },
    {
     "data": {
      "text/html": [],
      "text/plain": [
       "<IPython.core.display.HTML object>"
      ]
     },
     "metadata": {},
     "output_type": "display_data"
    },
    {
     "data": {
      "text/html": [],
      "text/plain": [
       "<IPython.core.display.HTML object>"
      ]
     },
     "metadata": {},
     "output_type": "display_data"
    },
    {
     "data": {
      "text/html": [],
      "text/plain": [
       "<IPython.core.display.HTML object>"
      ]
     },
     "metadata": {},
     "output_type": "display_data"
    },
    {
     "data": {
      "text/html": [],
      "text/plain": [
       "<IPython.core.display.HTML object>"
      ]
     },
     "metadata": {},
     "output_type": "display_data"
    },
    {
     "data": {
      "text/html": [],
      "text/plain": [
       "<IPython.core.display.HTML object>"
      ]
     },
     "metadata": {},
     "output_type": "display_data"
    },
    {
     "data": {
      "text/html": [],
      "text/plain": [
       "<IPython.core.display.HTML object>"
      ]
     },
     "metadata": {},
     "output_type": "display_data"
    },
    {
     "data": {
      "text/html": [],
      "text/plain": [
       "<IPython.core.display.HTML object>"
      ]
     },
     "metadata": {},
     "output_type": "display_data"
    },
    {
     "data": {
      "text/html": [],
      "text/plain": [
       "<IPython.core.display.HTML object>"
      ]
     },
     "metadata": {},
     "output_type": "display_data"
    },
    {
     "data": {
      "text/html": [],
      "text/plain": [
       "<IPython.core.display.HTML object>"
      ]
     },
     "metadata": {},
     "output_type": "display_data"
    },
    {
     "data": {
      "text/html": [],
      "text/plain": [
       "<IPython.core.display.HTML object>"
      ]
     },
     "metadata": {},
     "output_type": "display_data"
    },
    {
     "data": {
      "text/html": [],
      "text/plain": [
       "<IPython.core.display.HTML object>"
      ]
     },
     "metadata": {},
     "output_type": "display_data"
    },
    {
     "data": {
      "text/html": [],
      "text/plain": [
       "<IPython.core.display.HTML object>"
      ]
     },
     "metadata": {},
     "output_type": "display_data"
    },
    {
     "data": {
      "text/html": [],
      "text/plain": [
       "<IPython.core.display.HTML object>"
      ]
     },
     "metadata": {},
     "output_type": "display_data"
    },
    {
     "data": {
      "text/html": [],
      "text/plain": [
       "<IPython.core.display.HTML object>"
      ]
     },
     "metadata": {},
     "output_type": "display_data"
    },
    {
     "data": {
      "text/html": [],
      "text/plain": [
       "<IPython.core.display.HTML object>"
      ]
     },
     "metadata": {},
     "output_type": "display_data"
    },
    {
     "data": {
      "text/html": [],
      "text/plain": [
       "<IPython.core.display.HTML object>"
      ]
     },
     "metadata": {},
     "output_type": "display_data"
    },
    {
     "data": {
      "text/html": [],
      "text/plain": [
       "<IPython.core.display.HTML object>"
      ]
     },
     "metadata": {},
     "output_type": "display_data"
    },
    {
     "data": {
      "text/html": [],
      "text/plain": [
       "<IPython.core.display.HTML object>"
      ]
     },
     "metadata": {},
     "output_type": "display_data"
    },
    {
     "data": {
      "text/html": [],
      "text/plain": [
       "<IPython.core.display.HTML object>"
      ]
     },
     "metadata": {},
     "output_type": "display_data"
    },
    {
     "data": {
      "text/html": [],
      "text/plain": [
       "<IPython.core.display.HTML object>"
      ]
     },
     "metadata": {},
     "output_type": "display_data"
    },
    {
     "data": {
      "text/html": [],
      "text/plain": [
       "<IPython.core.display.HTML object>"
      ]
     },
     "metadata": {},
     "output_type": "display_data"
    },
    {
     "data": {
      "text/html": [],
      "text/plain": [
       "<IPython.core.display.HTML object>"
      ]
     },
     "metadata": {},
     "output_type": "display_data"
    },
    {
     "data": {
      "text/html": [],
      "text/plain": [
       "<IPython.core.display.HTML object>"
      ]
     },
     "metadata": {},
     "output_type": "display_data"
    },
    {
     "data": {
      "text/html": [],
      "text/plain": [
       "<IPython.core.display.HTML object>"
      ]
     },
     "metadata": {},
     "output_type": "display_data"
    },
    {
     "data": {
      "text/html": [],
      "text/plain": [
       "<IPython.core.display.HTML object>"
      ]
     },
     "metadata": {},
     "output_type": "display_data"
    },
    {
     "data": {
      "text/html": [],
      "text/plain": [
       "<IPython.core.display.HTML object>"
      ]
     },
     "metadata": {},
     "output_type": "display_data"
    },
    {
     "data": {
      "text/html": [],
      "text/plain": [
       "<IPython.core.display.HTML object>"
      ]
     },
     "metadata": {},
     "output_type": "display_data"
    },
    {
     "data": {
      "text/html": [],
      "text/plain": [
       "<IPython.core.display.HTML object>"
      ]
     },
     "metadata": {},
     "output_type": "display_data"
    },
    {
     "data": {
      "text/html": [],
      "text/plain": [
       "<IPython.core.display.HTML object>"
      ]
     },
     "metadata": {},
     "output_type": "display_data"
    },
    {
     "data": {
      "text/html": [],
      "text/plain": [
       "<IPython.core.display.HTML object>"
      ]
     },
     "metadata": {},
     "output_type": "display_data"
    },
    {
     "data": {
      "text/html": [],
      "text/plain": [
       "<IPython.core.display.HTML object>"
      ]
     },
     "metadata": {},
     "output_type": "display_data"
    },
    {
     "data": {
      "text/html": [],
      "text/plain": [
       "<IPython.core.display.HTML object>"
      ]
     },
     "metadata": {},
     "output_type": "display_data"
    },
    {
     "data": {
      "text/html": [],
      "text/plain": [
       "<IPython.core.display.HTML object>"
      ]
     },
     "metadata": {},
     "output_type": "display_data"
    },
    {
     "data": {
      "text/html": [],
      "text/plain": [
       "<IPython.core.display.HTML object>"
      ]
     },
     "metadata": {},
     "output_type": "display_data"
    },
    {
     "data": {
      "text/html": [],
      "text/plain": [
       "<IPython.core.display.HTML object>"
      ]
     },
     "metadata": {},
     "output_type": "display_data"
    },
    {
     "data": {
      "text/html": [],
      "text/plain": [
       "<IPython.core.display.HTML object>"
      ]
     },
     "metadata": {},
     "output_type": "display_data"
    },
    {
     "data": {
      "text/html": [],
      "text/plain": [
       "<IPython.core.display.HTML object>"
      ]
     },
     "metadata": {},
     "output_type": "display_data"
    },
    {
     "data": {
      "text/html": [],
      "text/plain": [
       "<IPython.core.display.HTML object>"
      ]
     },
     "metadata": {},
     "output_type": "display_data"
    },
    {
     "data": {
      "text/html": [],
      "text/plain": [
       "<IPython.core.display.HTML object>"
      ]
     },
     "metadata": {},
     "output_type": "display_data"
    },
    {
     "data": {
      "text/html": [],
      "text/plain": [
       "<IPython.core.display.HTML object>"
      ]
     },
     "metadata": {},
     "output_type": "display_data"
    },
    {
     "data": {
      "text/html": [],
      "text/plain": [
       "<IPython.core.display.HTML object>"
      ]
     },
     "metadata": {},
     "output_type": "display_data"
    },
    {
     "data": {
      "text/html": [],
      "text/plain": [
       "<IPython.core.display.HTML object>"
      ]
     },
     "metadata": {},
     "output_type": "display_data"
    },
    {
     "data": {
      "text/html": [],
      "text/plain": [
       "<IPython.core.display.HTML object>"
      ]
     },
     "metadata": {},
     "output_type": "display_data"
    },
    {
     "data": {
      "text/html": [],
      "text/plain": [
       "<IPython.core.display.HTML object>"
      ]
     },
     "metadata": {},
     "output_type": "display_data"
    },
    {
     "data": {
      "text/html": [],
      "text/plain": [
       "<IPython.core.display.HTML object>"
      ]
     },
     "metadata": {},
     "output_type": "display_data"
    },
    {
     "data": {
      "text/html": [],
      "text/plain": [
       "<IPython.core.display.HTML object>"
      ]
     },
     "metadata": {},
     "output_type": "display_data"
    },
    {
     "data": {
      "text/html": [],
      "text/plain": [
       "<IPython.core.display.HTML object>"
      ]
     },
     "metadata": {},
     "output_type": "display_data"
    },
    {
     "data": {
      "text/html": [],
      "text/plain": [
       "<IPython.core.display.HTML object>"
      ]
     },
     "metadata": {},
     "output_type": "display_data"
    },
    {
     "data": {
      "text/html": [],
      "text/plain": [
       "<IPython.core.display.HTML object>"
      ]
     },
     "metadata": {},
     "output_type": "display_data"
    },
    {
     "data": {
      "text/html": [],
      "text/plain": [
       "<IPython.core.display.HTML object>"
      ]
     },
     "metadata": {},
     "output_type": "display_data"
    },
    {
     "data": {
      "text/html": [],
      "text/plain": [
       "<IPython.core.display.HTML object>"
      ]
     },
     "metadata": {},
     "output_type": "display_data"
    },
    {
     "data": {
      "text/html": [],
      "text/plain": [
       "<IPython.core.display.HTML object>"
      ]
     },
     "metadata": {},
     "output_type": "display_data"
    },
    {
     "data": {
      "text/html": [],
      "text/plain": [
       "<IPython.core.display.HTML object>"
      ]
     },
     "metadata": {},
     "output_type": "display_data"
    },
    {
     "data": {
      "text/html": [],
      "text/plain": [
       "<IPython.core.display.HTML object>"
      ]
     },
     "metadata": {},
     "output_type": "display_data"
    },
    {
     "data": {
      "text/html": [],
      "text/plain": [
       "<IPython.core.display.HTML object>"
      ]
     },
     "metadata": {},
     "output_type": "display_data"
    },
    {
     "data": {
      "text/html": [],
      "text/plain": [
       "<IPython.core.display.HTML object>"
      ]
     },
     "metadata": {},
     "output_type": "display_data"
    },
    {
     "data": {
      "text/html": [],
      "text/plain": [
       "<IPython.core.display.HTML object>"
      ]
     },
     "metadata": {},
     "output_type": "display_data"
    },
    {
     "data": {
      "text/html": [],
      "text/plain": [
       "<IPython.core.display.HTML object>"
      ]
     },
     "metadata": {},
     "output_type": "display_data"
    },
    {
     "data": {
      "text/html": [],
      "text/plain": [
       "<IPython.core.display.HTML object>"
      ]
     },
     "metadata": {},
     "output_type": "display_data"
    },
    {
     "data": {
      "text/html": [],
      "text/plain": [
       "<IPython.core.display.HTML object>"
      ]
     },
     "metadata": {},
     "output_type": "display_data"
    },
    {
     "data": {
      "text/html": [],
      "text/plain": [
       "<IPython.core.display.HTML object>"
      ]
     },
     "metadata": {},
     "output_type": "display_data"
    },
    {
     "data": {
      "text/html": [],
      "text/plain": [
       "<IPython.core.display.HTML object>"
      ]
     },
     "metadata": {},
     "output_type": "display_data"
    },
    {
     "data": {
      "text/html": [],
      "text/plain": [
       "<IPython.core.display.HTML object>"
      ]
     },
     "metadata": {},
     "output_type": "display_data"
    },
    {
     "data": {
      "text/html": [],
      "text/plain": [
       "<IPython.core.display.HTML object>"
      ]
     },
     "metadata": {},
     "output_type": "display_data"
    },
    {
     "data": {
      "text/html": [],
      "text/plain": [
       "<IPython.core.display.HTML object>"
      ]
     },
     "metadata": {},
     "output_type": "display_data"
    },
    {
     "data": {
      "text/html": [],
      "text/plain": [
       "<IPython.core.display.HTML object>"
      ]
     },
     "metadata": {},
     "output_type": "display_data"
    },
    {
     "data": {
      "text/html": [],
      "text/plain": [
       "<IPython.core.display.HTML object>"
      ]
     },
     "metadata": {},
     "output_type": "display_data"
    },
    {
     "data": {
      "text/html": [],
      "text/plain": [
       "<IPython.core.display.HTML object>"
      ]
     },
     "metadata": {},
     "output_type": "display_data"
    },
    {
     "data": {
      "text/html": [],
      "text/plain": [
       "<IPython.core.display.HTML object>"
      ]
     },
     "metadata": {},
     "output_type": "display_data"
    },
    {
     "data": {
      "text/html": [],
      "text/plain": [
       "<IPython.core.display.HTML object>"
      ]
     },
     "metadata": {},
     "output_type": "display_data"
    },
    {
     "data": {
      "text/html": [],
      "text/plain": [
       "<IPython.core.display.HTML object>"
      ]
     },
     "metadata": {},
     "output_type": "display_data"
    },
    {
     "data": {
      "text/html": [],
      "text/plain": [
       "<IPython.core.display.HTML object>"
      ]
     },
     "metadata": {},
     "output_type": "display_data"
    },
    {
     "data": {
      "text/html": [],
      "text/plain": [
       "<IPython.core.display.HTML object>"
      ]
     },
     "metadata": {},
     "output_type": "display_data"
    },
    {
     "data": {
      "text/html": [],
      "text/plain": [
       "<IPython.core.display.HTML object>"
      ]
     },
     "metadata": {},
     "output_type": "display_data"
    },
    {
     "data": {
      "text/html": [],
      "text/plain": [
       "<IPython.core.display.HTML object>"
      ]
     },
     "metadata": {},
     "output_type": "display_data"
    },
    {
     "data": {
      "text/html": [],
      "text/plain": [
       "<IPython.core.display.HTML object>"
      ]
     },
     "metadata": {},
     "output_type": "display_data"
    },
    {
     "data": {
      "text/html": [],
      "text/plain": [
       "<IPython.core.display.HTML object>"
      ]
     },
     "metadata": {},
     "output_type": "display_data"
    },
    {
     "data": {
      "text/html": [],
      "text/plain": [
       "<IPython.core.display.HTML object>"
      ]
     },
     "metadata": {},
     "output_type": "display_data"
    },
    {
     "data": {
      "text/html": [],
      "text/plain": [
       "<IPython.core.display.HTML object>"
      ]
     },
     "metadata": {},
     "output_type": "display_data"
    },
    {
     "data": {
      "text/html": [],
      "text/plain": [
       "<IPython.core.display.HTML object>"
      ]
     },
     "metadata": {},
     "output_type": "display_data"
    },
    {
     "data": {
      "text/html": [],
      "text/plain": [
       "<IPython.core.display.HTML object>"
      ]
     },
     "metadata": {},
     "output_type": "display_data"
    },
    {
     "data": {
      "text/html": [],
      "text/plain": [
       "<IPython.core.display.HTML object>"
      ]
     },
     "metadata": {},
     "output_type": "display_data"
    },
    {
     "data": {
      "text/html": [],
      "text/plain": [
       "<IPython.core.display.HTML object>"
      ]
     },
     "metadata": {},
     "output_type": "display_data"
    },
    {
     "data": {
      "text/html": [],
      "text/plain": [
       "<IPython.core.display.HTML object>"
      ]
     },
     "metadata": {},
     "output_type": "display_data"
    },
    {
     "data": {
      "text/html": [],
      "text/plain": [
       "<IPython.core.display.HTML object>"
      ]
     },
     "metadata": {},
     "output_type": "display_data"
    },
    {
     "data": {
      "text/html": [],
      "text/plain": [
       "<IPython.core.display.HTML object>"
      ]
     },
     "metadata": {},
     "output_type": "display_data"
    },
    {
     "data": {
      "text/html": [],
      "text/plain": [
       "<IPython.core.display.HTML object>"
      ]
     },
     "metadata": {},
     "output_type": "display_data"
    },
    {
     "data": {
      "text/html": [],
      "text/plain": [
       "<IPython.core.display.HTML object>"
      ]
     },
     "metadata": {},
     "output_type": "display_data"
    },
    {
     "data": {
      "text/html": [],
      "text/plain": [
       "<IPython.core.display.HTML object>"
      ]
     },
     "metadata": {},
     "output_type": "display_data"
    },
    {
     "data": {
      "text/html": [],
      "text/plain": [
       "<IPython.core.display.HTML object>"
      ]
     },
     "metadata": {},
     "output_type": "display_data"
    },
    {
     "data": {
      "text/html": [],
      "text/plain": [
       "<IPython.core.display.HTML object>"
      ]
     },
     "metadata": {},
     "output_type": "display_data"
    },
    {
     "data": {
      "text/html": [],
      "text/plain": [
       "<IPython.core.display.HTML object>"
      ]
     },
     "metadata": {},
     "output_type": "display_data"
    },
    {
     "data": {
      "text/html": [],
      "text/plain": [
       "<IPython.core.display.HTML object>"
      ]
     },
     "metadata": {},
     "output_type": "display_data"
    },
    {
     "data": {
      "text/html": [],
      "text/plain": [
       "<IPython.core.display.HTML object>"
      ]
     },
     "metadata": {},
     "output_type": "display_data"
    },
    {
     "data": {
      "text/html": [],
      "text/plain": [
       "<IPython.core.display.HTML object>"
      ]
     },
     "metadata": {},
     "output_type": "display_data"
    },
    {
     "data": {
      "text/html": [],
      "text/plain": [
       "<IPython.core.display.HTML object>"
      ]
     },
     "metadata": {},
     "output_type": "display_data"
    },
    {
     "data": {
      "text/html": [],
      "text/plain": [
       "<IPython.core.display.HTML object>"
      ]
     },
     "metadata": {},
     "output_type": "display_data"
    },
    {
     "data": {
      "text/html": [],
      "text/plain": [
       "<IPython.core.display.HTML object>"
      ]
     },
     "metadata": {},
     "output_type": "display_data"
    },
    {
     "data": {
      "text/html": [],
      "text/plain": [
       "<IPython.core.display.HTML object>"
      ]
     },
     "metadata": {},
     "output_type": "display_data"
    },
    {
     "data": {
      "text/html": [],
      "text/plain": [
       "<IPython.core.display.HTML object>"
      ]
     },
     "metadata": {},
     "output_type": "display_data"
    },
    {
     "data": {
      "text/html": [],
      "text/plain": [
       "<IPython.core.display.HTML object>"
      ]
     },
     "metadata": {},
     "output_type": "display_data"
    },
    {
     "data": {
      "text/html": [],
      "text/plain": [
       "<IPython.core.display.HTML object>"
      ]
     },
     "metadata": {},
     "output_type": "display_data"
    },
    {
     "data": {
      "text/html": [],
      "text/plain": [
       "<IPython.core.display.HTML object>"
      ]
     },
     "metadata": {},
     "output_type": "display_data"
    },
    {
     "data": {
      "text/html": [],
      "text/plain": [
       "<IPython.core.display.HTML object>"
      ]
     },
     "metadata": {},
     "output_type": "display_data"
    },
    {
     "data": {
      "text/html": [],
      "text/plain": [
       "<IPython.core.display.HTML object>"
      ]
     },
     "metadata": {},
     "output_type": "display_data"
    },
    {
     "data": {
      "text/html": [],
      "text/plain": [
       "<IPython.core.display.HTML object>"
      ]
     },
     "metadata": {},
     "output_type": "display_data"
    },
    {
     "data": {
      "text/html": [],
      "text/plain": [
       "<IPython.core.display.HTML object>"
      ]
     },
     "metadata": {},
     "output_type": "display_data"
    },
    {
     "data": {
      "text/html": [],
      "text/plain": [
       "<IPython.core.display.HTML object>"
      ]
     },
     "metadata": {},
     "output_type": "display_data"
    },
    {
     "data": {
      "text/html": [],
      "text/plain": [
       "<IPython.core.display.HTML object>"
      ]
     },
     "metadata": {},
     "output_type": "display_data"
    },
    {
     "data": {
      "text/html": [],
      "text/plain": [
       "<IPython.core.display.HTML object>"
      ]
     },
     "metadata": {},
     "output_type": "display_data"
    },
    {
     "data": {
      "text/html": [],
      "text/plain": [
       "<IPython.core.display.HTML object>"
      ]
     },
     "metadata": {},
     "output_type": "display_data"
    },
    {
     "data": {
      "text/html": [],
      "text/plain": [
       "<IPython.core.display.HTML object>"
      ]
     },
     "metadata": {},
     "output_type": "display_data"
    },
    {
     "data": {
      "text/html": [],
      "text/plain": [
       "<IPython.core.display.HTML object>"
      ]
     },
     "metadata": {},
     "output_type": "display_data"
    },
    {
     "data": {
      "text/html": [],
      "text/plain": [
       "<IPython.core.display.HTML object>"
      ]
     },
     "metadata": {},
     "output_type": "display_data"
    },
    {
     "data": {
      "text/html": [],
      "text/plain": [
       "<IPython.core.display.HTML object>"
      ]
     },
     "metadata": {},
     "output_type": "display_data"
    },
    {
     "data": {
      "text/html": [],
      "text/plain": [
       "<IPython.core.display.HTML object>"
      ]
     },
     "metadata": {},
     "output_type": "display_data"
    },
    {
     "data": {
      "text/html": [],
      "text/plain": [
       "<IPython.core.display.HTML object>"
      ]
     },
     "metadata": {},
     "output_type": "display_data"
    },
    {
     "data": {
      "text/html": [],
      "text/plain": [
       "<IPython.core.display.HTML object>"
      ]
     },
     "metadata": {},
     "output_type": "display_data"
    },
    {
     "data": {
      "text/html": [],
      "text/plain": [
       "<IPython.core.display.HTML object>"
      ]
     },
     "metadata": {},
     "output_type": "display_data"
    },
    {
     "data": {
      "text/html": [],
      "text/plain": [
       "<IPython.core.display.HTML object>"
      ]
     },
     "metadata": {},
     "output_type": "display_data"
    },
    {
     "data": {
      "text/html": [],
      "text/plain": [
       "<IPython.core.display.HTML object>"
      ]
     },
     "metadata": {},
     "output_type": "display_data"
    },
    {
     "data": {
      "text/html": [],
      "text/plain": [
       "<IPython.core.display.HTML object>"
      ]
     },
     "metadata": {},
     "output_type": "display_data"
    },
    {
     "data": {
      "text/html": [],
      "text/plain": [
       "<IPython.core.display.HTML object>"
      ]
     },
     "metadata": {},
     "output_type": "display_data"
    },
    {
     "data": {
      "text/html": [],
      "text/plain": [
       "<IPython.core.display.HTML object>"
      ]
     },
     "metadata": {},
     "output_type": "display_data"
    },
    {
     "data": {
      "text/html": [],
      "text/plain": [
       "<IPython.core.display.HTML object>"
      ]
     },
     "metadata": {},
     "output_type": "display_data"
    },
    {
     "data": {
      "text/html": [],
      "text/plain": [
       "<IPython.core.display.HTML object>"
      ]
     },
     "metadata": {},
     "output_type": "display_data"
    },
    {
     "data": {
      "text/html": [],
      "text/plain": [
       "<IPython.core.display.HTML object>"
      ]
     },
     "metadata": {},
     "output_type": "display_data"
    },
    {
     "data": {
      "text/html": [],
      "text/plain": [
       "<IPython.core.display.HTML object>"
      ]
     },
     "metadata": {},
     "output_type": "display_data"
    },
    {
     "data": {
      "text/html": [],
      "text/plain": [
       "<IPython.core.display.HTML object>"
      ]
     },
     "metadata": {},
     "output_type": "display_data"
    },
    {
     "data": {
      "text/html": [],
      "text/plain": [
       "<IPython.core.display.HTML object>"
      ]
     },
     "metadata": {},
     "output_type": "display_data"
    },
    {
     "data": {
      "text/html": [],
      "text/plain": [
       "<IPython.core.display.HTML object>"
      ]
     },
     "metadata": {},
     "output_type": "display_data"
    },
    {
     "data": {
      "text/html": [],
      "text/plain": [
       "<IPython.core.display.HTML object>"
      ]
     },
     "metadata": {},
     "output_type": "display_data"
    },
    {
     "data": {
      "text/html": [],
      "text/plain": [
       "<IPython.core.display.HTML object>"
      ]
     },
     "metadata": {},
     "output_type": "display_data"
    },
    {
     "data": {
      "text/html": [],
      "text/plain": [
       "<IPython.core.display.HTML object>"
      ]
     },
     "metadata": {},
     "output_type": "display_data"
    },
    {
     "data": {
      "text/html": [],
      "text/plain": [
       "<IPython.core.display.HTML object>"
      ]
     },
     "metadata": {},
     "output_type": "display_data"
    },
    {
     "data": {
      "text/html": [],
      "text/plain": [
       "<IPython.core.display.HTML object>"
      ]
     },
     "metadata": {},
     "output_type": "display_data"
    },
    {
     "data": {
      "text/html": [],
      "text/plain": [
       "<IPython.core.display.HTML object>"
      ]
     },
     "metadata": {},
     "output_type": "display_data"
    },
    {
     "data": {
      "text/html": [],
      "text/plain": [
       "<IPython.core.display.HTML object>"
      ]
     },
     "metadata": {},
     "output_type": "display_data"
    },
    {
     "data": {
      "text/html": [],
      "text/plain": [
       "<IPython.core.display.HTML object>"
      ]
     },
     "metadata": {},
     "output_type": "display_data"
    },
    {
     "data": {
      "text/html": [],
      "text/plain": [
       "<IPython.core.display.HTML object>"
      ]
     },
     "metadata": {},
     "output_type": "display_data"
    },
    {
     "data": {
      "text/html": [],
      "text/plain": [
       "<IPython.core.display.HTML object>"
      ]
     },
     "metadata": {},
     "output_type": "display_data"
    },
    {
     "data": {
      "text/html": [],
      "text/plain": [
       "<IPython.core.display.HTML object>"
      ]
     },
     "metadata": {},
     "output_type": "display_data"
    },
    {
     "data": {
      "text/html": [],
      "text/plain": [
       "<IPython.core.display.HTML object>"
      ]
     },
     "metadata": {},
     "output_type": "display_data"
    },
    {
     "data": {
      "text/html": [],
      "text/plain": [
       "<IPython.core.display.HTML object>"
      ]
     },
     "metadata": {},
     "output_type": "display_data"
    },
    {
     "data": {
      "text/html": [],
      "text/plain": [
       "<IPython.core.display.HTML object>"
      ]
     },
     "metadata": {},
     "output_type": "display_data"
    },
    {
     "data": {
      "text/html": [],
      "text/plain": [
       "<IPython.core.display.HTML object>"
      ]
     },
     "metadata": {},
     "output_type": "display_data"
    },
    {
     "data": {
      "text/html": [],
      "text/plain": [
       "<IPython.core.display.HTML object>"
      ]
     },
     "metadata": {},
     "output_type": "display_data"
    },
    {
     "data": {
      "text/html": [],
      "text/plain": [
       "<IPython.core.display.HTML object>"
      ]
     },
     "metadata": {},
     "output_type": "display_data"
    },
    {
     "data": {
      "text/html": [],
      "text/plain": [
       "<IPython.core.display.HTML object>"
      ]
     },
     "metadata": {},
     "output_type": "display_data"
    },
    {
     "data": {
      "text/html": [],
      "text/plain": [
       "<IPython.core.display.HTML object>"
      ]
     },
     "metadata": {},
     "output_type": "display_data"
    },
    {
     "name": "stdout",
     "output_type": "stream",
     "text": [
      "               datetime  prediction_label\n",
      "0   2025-01-28 00:00:00         17.409315\n",
      "1   2025-01-28 01:00:00         15.058259\n",
      "2   2025-01-28 02:00:00         14.505208\n",
      "3   2025-01-28 03:00:00         20.632487\n",
      "4   2025-01-28 04:00:00         24.464285\n",
      "..                  ...               ...\n",
      "163 2025-02-03 19:00:00          9.778274\n",
      "164 2025-02-03 20:00:00          9.070138\n",
      "165 2025-02-03 21:00:00          9.140615\n",
      "166 2025-02-03 22:00:00          7.088001\n",
      "167 2025-02-03 23:00:00          8.207350\n",
      "\n",
      "[168 rows x 2 columns]\n"
     ]
    }
   ],
   "source": [
    "import pandas as pd\n",
    "from pycaret.regression import *\n",
    "from datetime import timedelta\n",
    "import numpy as np\n",
    "\n",
    "# โหลดไฟล์ CSV\n",
    "file_path = \"D:\\Term_Project\\pm_2.5\\cleaned_data (2)-7days.csv\"\n",
    "df = pd.read_csv(file_path)\n",
    "\n",
    "# แปลง datetime เป็นชนิด datetime\n",
    "df[\"datetime\"] = pd.to_datetime(df[\"datetime\"], dayfirst=True, errors=\"coerce\")\n",
    "\n",
    "# แปลง 'pm_2_5' เป็นตัวเลข\n",
    "df[\"pm_2_5\"] = pd.to_numeric(df[\"pm_2_5\"], errors=\"coerce\")\n",
    "\n",
    "# สร้างสำเนา DataFrame เพื่อใช้ทำความสะอาดข้อมูล\n",
    "df_cleaned = df.copy()\n",
    "\n",
    "# ฟังก์ชันสำหรับจัดการ outlier และ NaN ด้วย Hybrid Imputation\n",
    "def hybrid_imputation(series):\n",
    "    Q1 = series.quantile(0.25)\n",
    "    Q3 = series.quantile(0.75)\n",
    "    IQR = Q3 - Q1\n",
    "    lower_bound = Q1 - 1.5 * IQR\n",
    "    upper_bound = Q3 + 1.5 * IQR\n",
    "    median_value = series.median()\n",
    "    series = series.where((series >= lower_bound) & (series <= upper_bound), median_value)\n",
    "    series = series.fillna(median_value)\n",
    "    return series\n",
    "\n",
    "# ใช้ Hybrid Imputation สำหรับคอลัมน์ 'pm_2_5'\n",
    "df_cleaned[\"pm_2_5\"] = hybrid_imputation(df_cleaned[\"pm_2_5\"])\n",
    "\n",
    "# สร้างฟีเจอร์ย้อนหลัง\n",
    "for lag in [1, 3, 6, 24]:\n",
    "    df_cleaned[f\"pm_2_5_lag_{lag}\"] = df_cleaned[\"pm_2_5\"].shift(lag)\n",
    "\n",
    "# ตั้งค่า PyCaret และแบ่ง train 80% test 20%\n",
    "exp = setup(df_cleaned, target=\"pm_2_5\", train_size=0.8, session_id=42, normalize=True, feature_selection=True)\n",
    "\n",
    "# ปรับแต่งโมเดล Extra Trees Regressor\n",
    "model = create_model(\"et\")\n",
    "\n",
    "# ---- สร้างข้อมูลสำหรับพยากรณ์ล่วงหน้า 7 วัน (168 ชั่วโมง) ----\n",
    "last_date = df_cleaned[\"datetime\"].max()\n",
    "future_dates = [last_date + timedelta(hours=i) for i in range(1, 169)]\n",
    "\n",
    "latest_humidity = df_cleaned[\"humidity\"].iloc[-24:].mean()\n",
    "latest_temperature = df_cleaned[\"temperature\"].iloc[-24:].mean()\n",
    "latest_pm25 = df_cleaned[\"pm_2_5\"].iloc[-1]\n",
    "\n",
    "future_data = pd.DataFrame({\n",
    "    \"datetime\": future_dates,\n",
    "    \"humidity\": [latest_humidity] * len(future_dates),\n",
    "    \"temperature\": [latest_temperature] * len(future_dates),\n",
    "    \"pm_2_5_lag_1\": [latest_pm25] * len(future_dates),\n",
    "    \"pm_2_5_lag_3\": [latest_pm25] * len(future_dates),\n",
    "    \"pm_2_5_lag_6\": [latest_pm25] * len(future_dates),\n",
    "    \"pm_2_5_lag_24\": [latest_pm25] * len(future_dates)\n",
    "})\n",
    "\n",
    "# เพิ่มฟีเจอร์เชิงเวลา\n",
    "future_data[\"hour\"] = future_data[\"datetime\"].dt.hour\n",
    "future_data[\"dayofweek\"] = future_data[\"datetime\"].dt.dayofweek\n",
    "\n",
    "# Recursive forecasting\n",
    "for i in range(len(future_data)):\n",
    "    pred = predict_model(model, data=future_data.iloc[i:i+1])\n",
    "    predicted_value = pred.iloc[0][\"prediction_label\"]\n",
    "    if i + 1 < len(future_data):\n",
    "        future_data.at[i + 1, \"pm_2_5_lag_1\"] = predicted_value\n",
    "    if i + 3 < len(future_data):\n",
    "        future_data.at[i + 3, \"pm_2_5_lag_3\"] = predicted_value\n",
    "    if i + 6 < len(future_data):\n",
    "        future_data.at[i + 6, \"pm_2_5_lag_6\"] = predicted_value\n",
    "    if i + 24 < len(future_data):\n",
    "        future_data.at[i + 24, \"pm_2_5_lag_24\"] = predicted_value\n",
    "\n",
    "# ทำนายค่า PM 2.5\n",
    "predictions = predict_model(model, data=future_data)\n",
    "\n",
    "# หาชื่อคอลัมน์การทำนายที่ถูกต้อง\n",
    "prediction_column = [col for col in predictions.columns if \"predict\" in col.lower()]\n",
    "if prediction_column:\n",
    "    prediction_column = prediction_column[0]\n",
    "    print(predictions[[\"datetime\", prediction_column]])\n",
    "else:\n",
    "    print(\"ไม่พบคอลัมน์การทำนาย ลองแสดงผลทั้งหมด:\")\n",
    "    print(predictions.head())\n"
   ]
  }
 ],
 "metadata": {
  "kernelspec": {
   "display_name": "Python 3",
   "language": "python",
   "name": "python3"
  },
  "language_info": {
   "codemirror_mode": {
    "name": "ipython",
    "version": 3
   },
   "file_extension": ".py",
   "mimetype": "text/x-python",
   "name": "python",
   "nbconvert_exporter": "python",
   "pygments_lexer": "ipython3",
   "version": "3.11.7"
  }
 },
 "nbformat": 4,
 "nbformat_minor": 2
}
